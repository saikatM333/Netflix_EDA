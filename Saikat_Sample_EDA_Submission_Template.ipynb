{
  "nbformat": 4,
  "nbformat_minor": 0,
  "metadata": {
    "colab": {
      "private_outputs": true,
      "provenance": [],
      "collapsed_sections": [
        "vncDsAP0Gaoa",
        "yQaldy8SH6Dl",
        "mDgbUHAGgjLW",
        "HhfV-JJviCcP",
        "3RnN4peoiCZX",
        "x71ZqKXriCWQ",
        "7hBIi_osiCS2",
        "JlHwYmJAmNHm",
        "35m5QtbWiB9F",
        "PoPl-ycgm1ru",
        "nA9Y7ga8ng1Z",
        "dauF4eBmngu3",
        "MSa1f5Uengrz",
        "0wOQAZs5pc--",
        "KSlN3yHqYklG",
        "EM7whBJCYoAo",
        "85gYPyotYoAp",
        "RoGjAbkUYoAp",
        "4Of9eVA-YrdM",
        "iky9q4vBYrdO",
        "bamQiAODYuh1",
        "GwzvFGzlYuh3",
        "qYpmQ266Yuh3",
        "OH-pJp9IphqM",
        "PIIx-8_IphqN",
        "BZR9WyysphqO",
        "rFu4xreNphqO",
        "YJ55k-q6phqO",
        "gCFgpxoyphqP",
        "OVtJsKN_phqQ",
        "lssrdh5qphqQ",
        "U2RJ9gkRphqQ",
        "JMzcOPDDphqR",
        "x-EpHcCOp1ci",
        "ylSl6qgtp1ck",
        "ZWILFDl5p1ck",
        "M7G43BXep1ck",
        "Ag9LCva-p1cl",
        "E6MkPsBcp1cl",
        "2cELzS2fp1cl",
        "NC_X3p0fY2L0",
        "UV0SzAkaZNRQ",
        "YPEH6qLeZNRQ",
        "q29F0dvdveiT",
        "EXh0U9oCveiU",
        "22aHeOlLveiV",
        "gCX9965dhzqZ",
        "gIfDvo9L0UH2"
      ]
    },
    "kernelspec": {
      "name": "python3",
      "display_name": "Python 3"
    },
    "language_info": {
      "name": "python"
    }
  },
  "cells": [
    {
      "cell_type": "code",
      "source": [],
      "metadata": {
        "id": "I1apcow5dxii"
      },
      "execution_count": null,
      "outputs": []
    },
    {
      "cell_type": "markdown",
      "source": [
        "# **Project Name**    - Amazon Prime TV shows and movies\n",
        "\n"
      ],
      "metadata": {
        "id": "vncDsAP0Gaoa"
      }
    },
    {
      "cell_type": "markdown",
      "source": [
        "##### **Project Type**    - EDA\n",
        "##### **Contribution**    - Individual\n",
        "  \n"
      ],
      "metadata": {
        "id": "beRrZCGUAJYm"
      }
    },
    {
      "cell_type": "markdown",
      "source": [
        "# **Project Summary -**"
      ],
      "metadata": {
        "id": "FJNUwmbgGyua"
      }
    },
    {
      "cell_type": "markdown",
      "source": [
        "Write the summary here within 500-600 words."
      ],
      "metadata": {
        "id": "F6v_1wHtG2nS"
      }
    },
    {
      "cell_type": "markdown",
      "source": [
        "# **GitHub Link -**"
      ],
      "metadata": {
        "id": "w6K7xa23Elo4"
      }
    },
    {
      "cell_type": "markdown",
      "source": [
        "https://github.com/saikatM333/Netflix_EDA.git\n"
      ],
      "metadata": {
        "id": "h1o69JH3Eqqn"
      }
    },
    {
      "cell_type": "markdown",
      "source": [
        "# **Problem Statement**\n"
      ],
      "metadata": {
        "id": "yQaldy8SH6Dl"
      }
    },
    {
      "cell_type": "markdown",
      "source": [
        "**BUSINESS PROBLEM OVERVIEW**\n",
        "\n",
        "This dataset was created to analyze all shows available on Amazon Prime Video, allowing us to extract valuable insights such as:\n",
        "\n",
        "Content Diversity: What genres and categories dominate the platform?\n",
        "Regional Availability: How does content distribution vary across different regions?\n",
        "Trends Over Time: How has Amazon Prime’s content library evolved?\n",
        "IMDb Ratings & Popularity: What are the highest-rated or most popular shows on the platform?\n",
        "By analyzing this dataset, businesses, content creators, and data analysts can uncover key trends that influence subscription growth, user engagement, and content investment strategies in the streaming industry."
      ],
      "metadata": {
        "id": "DpeJGUA3kjGy"
      }
    },
    {
      "cell_type": "markdown",
      "source": [
        "#### **Define Your Business Objective?**"
      ],
      "metadata": {
        "id": "PH-0ReGfmX4f"
      }
    },
    {
      "cell_type": "markdown",
      "source": [
        "***GETTING  WHICH SHOWS/MOVIES, ACTORS,  TO BE PROMOTED TO INCRESE THE PLATFORM ENGAGEMENT***"
      ],
      "metadata": {
        "id": "PhDvGCAqmjP1"
      }
    },
    {
      "cell_type": "markdown",
      "source": [
        "# **General Guidelines** : -  "
      ],
      "metadata": {
        "id": "mDgbUHAGgjLW"
      }
    },
    {
      "cell_type": "markdown",
      "source": [
        "1.   Well-structured, formatted, and commented code is required.\n",
        "2.   Exception Handling, Production Grade Code & Deployment Ready Code will be a plus. Those students will be awarded some additional credits.\n",
        "     \n",
        "     The additional credits will have advantages over other students during Star Student selection.\n",
        "       \n",
        "             [ Note: - Deployment Ready Code is defined as, the whole .ipynb notebook should be executable in one go\n",
        "                       without a single error logged. ]\n",
        "\n",
        "3.   Each and every logic should have proper comments.\n",
        "4. You may add as many number of charts you want. Make Sure for each and every chart the following format should be answered.\n",
        "        \n",
        "\n",
        "```\n",
        "# Chart visualization code\n",
        "```\n",
        "            \n",
        "\n",
        "*   Why did you pick the specific chart?\n",
        "*   What is/are the insight(s) found from the chart?\n",
        "* Will the gained insights help creating a positive business impact?\n",
        "Are there any insights that lead to negative growth? Justify with specific reason.\n",
        "\n",
        "5. You have to create at least 20 logical & meaningful charts having important insights.\n",
        "\n",
        "\n",
        "[ Hints : - Do the Vizualization in  a structured way while following \"UBM\" Rule.\n",
        "\n",
        "U - Univariate Analysis,\n",
        "\n",
        "B - Bivariate Analysis (Numerical - Categorical, Numerical - Numerical, Categorical - Categorical)\n",
        "\n",
        "M - Multivariate Analysis\n",
        " ]\n",
        "\n",
        "\n",
        "\n"
      ],
      "metadata": {
        "id": "ZrxVaUj-hHfC"
      }
    },
    {
      "cell_type": "markdown",
      "source": [
        "# ***Let's Begin !***"
      ],
      "metadata": {
        "id": "O_i_v8NEhb9l"
      }
    },
    {
      "cell_type": "markdown",
      "source": [
        "## ***1. Know Your Data***"
      ],
      "metadata": {
        "id": "HhfV-JJviCcP"
      }
    },
    {
      "cell_type": "markdown",
      "source": [
        "### Import Libraries"
      ],
      "metadata": {
        "id": "Y3lxredqlCYt"
      }
    },
    {
      "cell_type": "code",
      "source": [
        "# Import Libraries\n",
        "import pandas as pd\n",
        "import numpy as np\n",
        "import matplotlib.pyplot as plt\n",
        "import seaborn as sns"
      ],
      "metadata": {
        "id": "M8Vqi-pPk-HR"
      },
      "execution_count": null,
      "outputs": []
    },
    {
      "cell_type": "markdown",
      "source": [
        "### Dataset Loading"
      ],
      "metadata": {
        "id": "3RnN4peoiCZX"
      }
    },
    {
      "cell_type": "code",
      "source": [
        "# Load Dataset\n",
        "credits_data =  pd.read_csv('credits.csv')\n",
        "titles_data =  pd.read_csv('titles.csv')\n",
        "\n"
      ],
      "metadata": {
        "id": "4CkvbW_SlZ_R"
      },
      "execution_count": null,
      "outputs": []
    },
    {
      "cell_type": "markdown",
      "source": [
        "### Dataset First View"
      ],
      "metadata": {
        "id": "x71ZqKXriCWQ"
      }
    },
    {
      "cell_type": "code",
      "source": [
        "# first we will look into to  titles data\n",
        "titles_data.head()"
      ],
      "metadata": {
        "id": "LWNFOSvLl09H",
        "collapsed": true
      },
      "execution_count": null,
      "outputs": []
    },
    {
      "cell_type": "code",
      "source": [
        "# secound we will se the credits data set\n",
        "credits_data.head()\n"
      ],
      "metadata": {
        "id": "C3pJTjHWARcp"
      },
      "execution_count": null,
      "outputs": []
    },
    {
      "cell_type": "markdown",
      "source": [
        "### Dataset Rows & Columns count"
      ],
      "metadata": {
        "id": "7hBIi_osiCS2"
      }
    },
    {
      "cell_type": "code",
      "source": [
        "# Dataset Rows & Columns count\n",
        "print(\"Credits row column count\" , credits_data.shape)\n",
        "print(\"Titles row column count\" , titles_data.shape)"
      ],
      "metadata": {
        "id": "Kllu7SJgmLij"
      },
      "execution_count": null,
      "outputs": []
    },
    {
      "cell_type": "markdown",
      "source": [
        "### Dataset Information"
      ],
      "metadata": {
        "id": "JlHwYmJAmNHm"
      }
    },
    {
      "cell_type": "code",
      "source": [
        "# Dataset Info\n",
        "# first we will see titles data set\n",
        "titles_data.info()"
      ],
      "metadata": {
        "id": "e9hRXRi6meOf",
        "collapsed": true
      },
      "execution_count": null,
      "outputs": []
    },
    {
      "cell_type": "code",
      "source": [
        "# secound we will see credits dataset\n",
        "credits_data.info()"
      ],
      "metadata": {
        "collapsed": true,
        "id": "ecfAYcGbDDbm"
      },
      "execution_count": null,
      "outputs": []
    },
    {
      "cell_type": "markdown",
      "source": [
        "#### Duplicate Values"
      ],
      "metadata": {
        "id": "35m5QtbWiB9F"
      }
    },
    {
      "cell_type": "code",
      "source": [
        "# Dataset Duplicate Value Count"
      ],
      "metadata": {
        "id": "1sLdpKYkmox0"
      },
      "execution_count": null,
      "outputs": []
    },
    {
      "cell_type": "markdown",
      "source": [
        "#### Missing Values/Null Values"
      ],
      "metadata": {
        "id": "PoPl-ycgm1ru"
      }
    },
    {
      "cell_type": "code",
      "source": [
        "# Missing Values/Null Values Count"
      ],
      "metadata": {
        "id": "GgHWkxvamxVg"
      },
      "execution_count": null,
      "outputs": []
    },
    {
      "cell_type": "code",
      "source": [
        "# Visualizing the missing values"
      ],
      "metadata": {
        "id": "3q5wnI3om9sJ"
      },
      "execution_count": null,
      "outputs": []
    },
    {
      "cell_type": "markdown",
      "source": [
        "### What did you know about your dataset?"
      ],
      "metadata": {
        "id": "H0kj-8xxnORC"
      }
    },
    {
      "cell_type": "markdown",
      "source": [
        "This dataset talk about the movies, shows and actors  worked on that content."
      ],
      "metadata": {
        "id": "gfoNAAC-nUe_"
      }
    },
    {
      "cell_type": "markdown",
      "source": [
        "## ***2. Understanding Your Variables***"
      ],
      "metadata": {
        "id": "nA9Y7ga8ng1Z"
      }
    },
    {
      "cell_type": "code",
      "source": [
        "# Dataset Columns\n",
        "print(\"list of columns in credits dataset\")\n",
        "credits_data.columns"
      ],
      "metadata": {
        "id": "j7xfkqrt5Ag5"
      },
      "execution_count": null,
      "outputs": []
    },
    {
      "cell_type": "code",
      "source": [
        "print('list of columns in tites')\n",
        "titles_data.columns"
      ],
      "metadata": {
        "id": "dr0AABs_a9U5"
      },
      "execution_count": null,
      "outputs": []
    },
    {
      "cell_type": "code",
      "source": [
        "# Dataset Describe\n",
        "# we will see some basic inshights about the titles data about numerical type\n",
        "\n",
        "titles_data.describe()"
      ],
      "metadata": {
        "id": "DnOaZdaE5Q5t",
        "collapsed": true
      },
      "execution_count": null,
      "outputs": []
    },
    {
      "cell_type": "code",
      "source": [
        "titles_data.describe(include =  'object')"
      ],
      "metadata": {
        "collapsed": true,
        "id": "yB0Y_UY-eRWJ"
      },
      "execution_count": null,
      "outputs": []
    },
    {
      "cell_type": "code",
      "source": [
        "credits_data.describe()"
      ],
      "metadata": {
        "collapsed": true,
        "id": "LWVpKcWOe-lt"
      },
      "execution_count": null,
      "outputs": []
    },
    {
      "cell_type": "code",
      "source": [
        "credits_data.describe( include =  'object')"
      ],
      "metadata": {
        "collapsed": true,
        "id": "BKDcTAU5fMcY"
      },
      "execution_count": null,
      "outputs": []
    },
    {
      "cell_type": "markdown",
      "source": [
        "### Variables Description"
      ],
      "metadata": {
        "id": "PBTbrJXOngz2"
      }
    },
    {
      "cell_type": "markdown",
      "source": [
        "Answer Here"
      ],
      "metadata": {
        "id": "aJV4KIxSnxay"
      }
    },
    {
      "cell_type": "markdown",
      "source": [
        "### Check Unique Values for each variable."
      ],
      "metadata": {
        "id": "u3PMJOP6ngxN"
      }
    },
    {
      "cell_type": "code",
      "source": [
        "# Check Unique Values for each variable.\n"
      ],
      "metadata": {
        "id": "zms12Yq5n-jE"
      },
      "execution_count": null,
      "outputs": []
    },
    {
      "cell_type": "markdown",
      "source": [
        "## 3. ***Data Wrangling***"
      ],
      "metadata": {
        "id": "dauF4eBmngu3"
      }
    },
    {
      "cell_type": "code",
      "source": [],
      "metadata": {
        "id": "KiKuq4quDemx"
      },
      "execution_count": null,
      "outputs": []
    },
    {
      "cell_type": "code",
      "source": [],
      "metadata": {
        "id": "pviI5bhXDTZi"
      },
      "execution_count": null,
      "outputs": []
    },
    {
      "cell_type": "markdown",
      "source": [
        "## *Data Cleaning* :"
      ],
      "metadata": {
        "id": "IViHtJtOht02"
      }
    },
    {
      "cell_type": "code",
      "source": [],
      "metadata": {
        "id": "8W1IISRkDQWl"
      },
      "execution_count": null,
      "outputs": []
    },
    {
      "cell_type": "code",
      "source": [
        "# copying the data\n",
        "titles_cleaned_data =  titles_data.copy()\n"
      ],
      "metadata": {
        "id": "OREClGP8Ap6R"
      },
      "execution_count": null,
      "outputs": []
    },
    {
      "cell_type": "markdown",
      "source": [
        "checking number of null values in the imdb_score , tmdb_score , tmdb_popularity"
      ],
      "metadata": {
        "id": "346zWAQrA_Vd"
      }
    },
    {
      "cell_type": "code",
      "source": [
        "titles_cleaned_data['imdb_score'].isnull().sum()"
      ],
      "metadata": {
        "id": "2S3Ey20rBYH3"
      },
      "execution_count": null,
      "outputs": []
    },
    {
      "cell_type": "code",
      "source": [
        "titles_cleaned_data['tmdb_popularity'].isnull().sum()"
      ],
      "metadata": {
        "id": "rJzUzPKuBGrH"
      },
      "execution_count": null,
      "outputs": []
    },
    {
      "cell_type": "code",
      "source": [
        "titles_cleaned_data['tmdb_score'].isnull().sum()"
      ],
      "metadata": {
        "id": "pvO69UE1A49b"
      },
      "execution_count": null,
      "outputs": []
    },
    {
      "cell_type": "code",
      "source": [
        "# Cleaning the titles data\n",
        "# handaling null values of various columns\n",
        "\n",
        "\n",
        "titles_cleaned_data['imdb_score']=titles_cleaned_data['imdb_score'].fillna(titles_cleaned_data['imdb_score'].median())\n",
        "titles_cleaned_data['imdb_score'].isnull().sum()"
      ],
      "metadata": {
        "id": "nqJAxtVchr-C"
      },
      "execution_count": null,
      "outputs": []
    },
    {
      "cell_type": "code",
      "source": [
        "titles_cleaned_data['tmdb_score']=titles_cleaned_data['tmdb_score'].fillna(titles_cleaned_data['tmdb_score'].median())\n",
        "titles_cleaned_data['tmdb_score'].isnull().sum()"
      ],
      "metadata": {
        "id": "1Z9D7Hj5B1j3"
      },
      "execution_count": null,
      "outputs": []
    },
    {
      "cell_type": "code",
      "source": [
        "titles_cleaned_data['tmdb_popularity']=titles_cleaned_data['tmdb_popularity'].fillna(titles_cleaned_data['tmdb_popularity'].median())\n",
        "titles_cleaned_data['tmdb_popularity'].isnull().sum()"
      ],
      "metadata": {
        "id": "rvn_vViUB9lH"
      },
      "execution_count": null,
      "outputs": []
    },
    {
      "cell_type": "code",
      "source": [
        "def handle_outlier(df, columns):\n",
        "    print(\"number of rows before outlier removal\",df.shape)\n",
        "    for col in columns:\n",
        "        if col in df.columns:\n",
        "            Q1 = df[col].quantile(0.25)\n",
        "            Q3 = df[col].quantile(0.75)\n",
        "            IQR = Q3 - Q1\n",
        "            lower_bound = Q1 - 1.5 * IQR\n",
        "            upper_bound = Q3 + 1.5 * IQR\n",
        "            df = df.loc[(df[col] >= lower_bound) & (df[col] <= upper_bound)]\n",
        "            print(f\"Outliers removed from column '{col}'\")\n",
        "        else:\n",
        "            print(f\"Column '{col}' not found.\")\n",
        "    print(\"number of rows after outlier removal\",df.shape)\n",
        "    return df\n"
      ],
      "metadata": {
        "id": "qrsuyaAnVvGY"
      },
      "execution_count": null,
      "outputs": []
    },
    {
      "cell_type": "code",
      "source": [
        "titles_cleaned_data['tmdb_popularity_normalized'] = np.log(titles_cleaned_data['tmdb_popularity'])"
      ],
      "metadata": {
        "id": "hF8gNq0xJekJ"
      },
      "execution_count": null,
      "outputs": []
    },
    {
      "cell_type": "code",
      "source": [
        "col =  [ 'tmdb_popularity_normalized']\n",
        "titles_cleaned_data_no_outlier =  handle_outlier( titles_cleaned_data , col)"
      ],
      "metadata": {
        "id": "Qcy36f1Vhc_b",
        "collapsed": true
      },
      "execution_count": null,
      "outputs": []
    },
    {
      "cell_type": "code",
      "source": [
        "# standardize the certification col"
      ],
      "metadata": {
        "id": "YAInDU3TWY80"
      },
      "execution_count": null,
      "outputs": []
    },
    {
      "cell_type": "code",
      "source": [],
      "metadata": {
        "id": "UAOGcIyVWefH"
      },
      "execution_count": null,
      "outputs": []
    },
    {
      "cell_type": "code",
      "source": [
        "titles_cleaned_data.info()"
      ],
      "metadata": {
        "id": "wdKMO9YYGrNI",
        "collapsed": true
      },
      "execution_count": null,
      "outputs": []
    },
    {
      "cell_type": "code",
      "source": [
        "import ast\n",
        "titles_cleaned_data_no_outlier['genres'] = titles_cleaned_data_no_outlier['genres'].apply(ast.literal_eval)\n",
        "\n",
        "# Step 2: Explode the list into multiple rows\n",
        "\n",
        "\n",
        "titles_cleaned_data_no_outlier=  titles_cleaned_data_no_outlier.explode('genres').reset_index(drop = True)\n",
        "titles_cleaned_data_no_outlier\n",
        "\n"
      ],
      "metadata": {
        "collapsed": true,
        "id": "YWOOD98aK1Fk"
      },
      "execution_count": null,
      "outputs": []
    },
    {
      "cell_type": "code",
      "source": [
        "\n",
        "# cleaning the production\n",
        "\n",
        "titles_cleaned_data_no_outlier['production_countries'] =  titles_cleaned_data_no_outlier['production_countries'].apply(ast.literal_eval)\n",
        "titles_cleaned_data_no_outlier =  titles_cleaned_data_no_outlier.explode('production_countries').reset_index(drop =  True)\n"
      ],
      "metadata": {
        "id": "n84JIyLuiPev"
      },
      "execution_count": null,
      "outputs": []
    },
    {
      "cell_type": "code",
      "source": [
        "titles_df =  titles_cleaned_data_no_outlier\n"
      ],
      "metadata": {
        "id": "X69afgnLjKV5"
      },
      "execution_count": null,
      "outputs": []
    },
    {
      "cell_type": "markdown",
      "source": [
        "### Data Wrangling Code"
      ],
      "metadata": {
        "id": "bKJF3rekwFvQ"
      }
    },
    {
      "cell_type": "code",
      "source": [
        "# Write your code to make your dataset analysis ready."
      ],
      "metadata": {
        "id": "wk-9a2fpoLcV"
      },
      "execution_count": null,
      "outputs": []
    },
    {
      "cell_type": "code",
      "source": [
        "# getting number of shows and movies\n",
        "\n",
        "number_shows_movies =  titles_cleaned_data_no_outlier.drop_duplicates(subset='id').value_counts( 'type').reset_index()\n",
        "number_shows_movies"
      ],
      "metadata": {
        "collapsed": true,
        "id": "9dflTJ71MZuG"
      },
      "execution_count": null,
      "outputs": []
    },
    {
      "cell_type": "code",
      "source": [
        "# popularity of show vs movies\n",
        "\n",
        "popularity_show_movies =  titles_cleaned_data_no_outlier.groupby('type')['tmdb_popularity_normalized'].mean()\n",
        "popularity_show_movies"
      ],
      "metadata": {
        "collapsed": true,
        "id": "dYACu2XwNrUD"
      },
      "execution_count": null,
      "outputs": []
    },
    {
      "cell_type": "code",
      "source": [
        "\n",
        "consistent_content_upload =  titles_df.drop_duplicates(subset='id').value_counts('production_countries').reset_index().sort_values(by = 'count' , ascending= False).head(10)\n",
        "consistent_content_upload"
      ],
      "metadata": {
        "collapsed": true,
        "id": "TH0J_whpddYr"
      },
      "execution_count": null,
      "outputs": []
    },
    {
      "cell_type": "code",
      "source": [
        "# # top 10  popular_movie countries production\n",
        "top_popular_countries_sorted = titles_df.drop_duplicates(subset=['id']).groupby('production_countries').agg(\n",
        "\n",
        "    tmdb_popularity_min = ('tmdb_popularity' , 'min'),\n",
        "    tmdb_popularity_max = ('tmdb_popularity' , 'max'),\n",
        "    tmdb_popularity_mean = ('tmdb_popularity' , 'mean')\n",
        ").reset_index().sort_values(by  =  'tmdb_popularity_mean' , ascending = False).head(20)\n",
        "\n",
        "top_popular_countries_sorted\n"
      ],
      "metadata": {
        "collapsed": true,
        "id": "zO-iyMn1mzKv"
      },
      "execution_count": null,
      "outputs": []
    },
    {
      "cell_type": "code",
      "source": [
        "#  contries with contries by IMdb score greter than 8\n",
        "top_Countries_by_imdb_score = titles_df.drop_duplicates(subset= 'id').groupby('production_countries')['imdb_score'].mean().reset_index().sort_values( by= 'imdb_score' , ascending =  False)\n",
        "top_Countries_by_imdb_score[top_Countries_by_imdb_score['imdb_score']>  8]"
      ],
      "metadata": {
        "id": "QTgtuwPxXotu"
      },
      "execution_count": null,
      "outputs": []
    },
    {
      "cell_type": "code",
      "source": [
        "def get_most_popular_genres_by_country(df, country_code):\n",
        "    try:\n",
        "        # Validate input DataFrame\n",
        "        county_wise__most_popluar_ganre =  df.groupby(['genres' , 'production_countries'])['tmdb_popularity_normalized'].mean().reset_index()\n",
        "        return county_wise__most_popluar_ganre.loc[ county_wise__most_popluar_ganre['production_countries'] == country_code ].sort_values(by = 'tmdb_popularity_normalized' , ascending =  False)\n",
        "\n",
        "\n",
        "    except Exception as e:\n",
        "        print(f\" error: {e}\")\n",
        "        return None\n"
      ],
      "metadata": {
        "id": "9J9bdXbPsOcj"
      },
      "execution_count": null,
      "outputs": []
    },
    {
      "cell_type": "code",
      "source": [
        "get_most_popular_genres_by_country(titles_df , 'US')"
      ],
      "metadata": {
        "collapsed": true,
        "id": "ya-svn7KUV37"
      },
      "execution_count": null,
      "outputs": []
    },
    {
      "cell_type": "code",
      "source": [
        "get_most_popular_genres_by_country(titles_df , 'IN')"
      ],
      "metadata": {
        "collapsed": true,
        "id": "c5jaqouAqcPQ"
      },
      "execution_count": null,
      "outputs": []
    },
    {
      "cell_type": "code",
      "source": [
        "#\n",
        "titles_df['decade'] =  titles_df['release_year']//10\n",
        "trend_df = titles_df.drop_duplicates(subset='id').groupby(['decade', 'genres'])['tmdb_popularity'].mean().reset_index()\n",
        "trend_df"
      ],
      "metadata": {
        "collapsed": true,
        "id": "0ccMzGcRs6Kx"
      },
      "execution_count": null,
      "outputs": []
    },
    {
      "cell_type": "code",
      "source": [
        "# how popularity of shows and movies are working out to decades\n",
        "trend_shows_movies_popularity =  titles_df.groupby(['type' , 'decade'])['tmdb_popularity'].mean().reset_index()\n",
        "trend_shows_movies_popularity"
      ],
      "metadata": {
        "id": "EzgYK32c5H5R",
        "collapsed": true
      },
      "execution_count": null,
      "outputs": []
    },
    {
      "cell_type": "code",
      "source": [
        "\n",
        "# MERGE THE TITLES AND CREDITS TO\n",
        "credits_titles_data  =  pd.merge(credits_data , titles_df , on = 'id' , how = 'inner')\n"
      ],
      "metadata": {
        "id": "yXVSQGsV5IdH"
      },
      "execution_count": null,
      "outputs": []
    },
    {
      "cell_type": "code",
      "source": [
        "credits_titles_data.columns"
      ],
      "metadata": {
        "id": "ZXIiHr5dHMPU"
      },
      "execution_count": null,
      "outputs": []
    },
    {
      "cell_type": "code",
      "source": [
        "credits_titles_data.head()"
      ],
      "metadata": {
        "collapsed": true,
        "id": "-QKYVVvYHaLf"
      },
      "execution_count": null,
      "outputs": []
    },
    {
      "cell_type": "code",
      "source": [
        "# unique person id\n",
        "print(credits_titles_data['id'].nunique())\n",
        "print(credits_titles_data['person_id'].nunique())"
      ],
      "metadata": {
        "id": "rvofFGcjHpoA"
      },
      "execution_count": null,
      "outputs": []
    },
    {
      "cell_type": "code",
      "source": [
        "# top performing actors in each genre\n",
        "def get_most_popular_actor(df , genre):\n",
        "  df =  df.loc[(df['genres']==genre) &(df['role'] =='ACTOR')]\n",
        "  return df.groupby(['genres','person_id'])['tmdb_popularity'].mean().reset_index().sort_values(by ='tmdb_popularity', ascending =  False)\n"
      ],
      "metadata": {
        "id": "6Mn15360JnT5"
      },
      "execution_count": null,
      "outputs": []
    },
    {
      "cell_type": "code",
      "source": [],
      "metadata": {
        "id": "RNpD5qB0dEJF"
      },
      "execution_count": null,
      "outputs": []
    },
    {
      "cell_type": "code",
      "source": [
        "TT= get_most_popular_actor(credits_titles_data , 'action')\n",
        "TT"
      ],
      "metadata": {
        "collapsed": true,
        "id": "gPzK9gAOjcCJ"
      },
      "execution_count": null,
      "outputs": []
    },
    {
      "cell_type": "code",
      "source": [
        "# number of content over decade\n",
        "# content_over_decade = credits_titles_data.groupby('decade')['id'].nunique().reset_index()\n",
        "# content_over_decade.rename({'id':'number_of_content'} , inplace =  True , axis =  1)\n",
        "# content_over_decade"
      ],
      "metadata": {
        "collapsed": true,
        "id": "Qe9swgxbpzwk"
      },
      "execution_count": null,
      "outputs": []
    },
    {
      "cell_type": "code",
      "source": [
        "def get_most_popular_production(df , genre):\n",
        "  df =  df.loc[(df['genres']==genre)]\n",
        "  return df.groupby('production_countries')['imdb_score'].mean().reset_index().sort_values(by ='imdb_score', ascending =  False).head(10)\n"
      ],
      "metadata": {
        "id": "e5hnkw4-dF85"
      },
      "execution_count": null,
      "outputs": []
    },
    {
      "cell_type": "code",
      "source": [
        "get_most_popular_production(titles_df, 'action')"
      ],
      "metadata": {
        "collapsed": true,
        "id": "BQbkTJ0ndjuU"
      },
      "execution_count": null,
      "outputs": []
    },
    {
      "cell_type": "code",
      "source": [
        "# number of content  in each decade\n",
        "decade_count =  titles_df.drop_duplicates('id').value_counts('decade').reset_index()\n",
        "decade_count.rename({'count':'number_of_content_upload'},inplace =  True , axis =  1)\n",
        "decade_count"
      ],
      "metadata": {
        "collapsed": true,
        "id": "eyZ5iibIp6mG"
      },
      "execution_count": null,
      "outputs": []
    },
    {
      "cell_type": "code",
      "source": [
        "# function for perticular actor/director popularity over decade\n",
        "# i will give actor it will give poppularity across the decade\n",
        "\n",
        "credits_titles_data.columns"
      ],
      "metadata": {
        "id": "nQ46Nqp-KRrR"
      },
      "execution_count": null,
      "outputs": []
    },
    {
      "cell_type": "code",
      "source": [
        "# Step 1: Top 10% IMDb score movies\n",
        "top_movies = titles_df.drop_duplicates('id').sort_values(by='imdb_score', ascending=False)\n",
        "top_movies = top_movies[top_movies['imdb_score'] >= top_movies['imdb_score'].quantile(0.90)]\n",
        "\n",
        "top_movies\n"
      ],
      "metadata": {
        "collapsed": true,
        "id": "ZdUiHcY7xsJx"
      },
      "execution_count": null,
      "outputs": []
    },
    {
      "cell_type": "markdown",
      "source": [],
      "metadata": {
        "id": "YOZCWE08X38b"
      }
    },
    {
      "cell_type": "code",
      "source": [
        "# unique age certification\n",
        "list_of_certi = titles_df['age_certification'].dropna().unique().tolist()\n",
        "print(list_of_certi)"
      ],
      "metadata": {
        "id": "9lqPCPixQEWs"
      },
      "execution_count": null,
      "outputs": []
    },
    {
      "cell_type": "code",
      "source": [
        "#unique list of genre\n",
        "list_of_genre =  titles_df['genres'].dropna().unique().tolist()\n",
        "print(list_of_genre)"
      ],
      "metadata": {
        "id": "OuWe-pvMim2k"
      },
      "execution_count": null,
      "outputs": []
    },
    {
      "cell_type": "code",
      "source": [
        "#unique list of production\n",
        "list_of_production =  titles_df['production_countries'].dropna().unique().tolist()\n",
        "print(list_of_production)"
      ],
      "metadata": {
        "id": "bSirGiyoirIO"
      },
      "execution_count": null,
      "outputs": []
    },
    {
      "cell_type": "code",
      "source": [
        "titles_df['duration_category'] = pd.cut(titles_df['runtime'], bins=[0, 30, 90, 180, 500], labels=[\"Short\", \"Medium\", \"Long\", \"Epic\"])\n",
        "duration_trend = titles_df.groupby('duration_category').agg(\n",
        "    tmdb_popularity_mean = ('tmdb_popularity' , 'mean'),\n",
        "    imdb_score_mean =('imdb_score','mean'),\n",
        "    tmdb_score_mean =('tmdb_score','mean')\n",
        ").reset_index()\n",
        "duration_trend\n"
      ],
      "metadata": {
        "collapsed": true,
        "id": "JIJSL5PyoE9p"
      },
      "execution_count": null,
      "outputs": []
    },
    {
      "cell_type": "code",
      "source": [
        "#effect on popularity of certification\n",
        "titles_df.groupby('age_certification')['tmdb_popularity'].mean().sort_values(ascending=False)\n"
      ],
      "metadata": {
        "collapsed": true,
        "id": "UBsRzdXDoYSs"
      },
      "execution_count": null,
      "outputs": []
    },
    {
      "cell_type": "code",
      "source": [
        "# combinations of directors and actors doing great\n",
        "\n"
      ],
      "metadata": {
        "id": "NfE1xMpKrXsC"
      },
      "execution_count": null,
      "outputs": []
    },
    {
      "cell_type": "code",
      "source": [
        "def get_top_directors(df):\n",
        "    return df[df['role'] == 'DIRECTOR'].groupby('person_id')['tmdb_popularity'].mean().reset_index().sort_values(by='tmdb_popularity', ascending=False).head(10)\n"
      ],
      "metadata": {
        "id": "PnOmqqJfolCB"
      },
      "execution_count": null,
      "outputs": []
    },
    {
      "cell_type": "code",
      "source": [
        "get_top_directors(credits_titles_data)"
      ],
      "metadata": {
        "collapsed": true,
        "id": "k43km7dwomzo"
      },
      "execution_count": null,
      "outputs": []
    },
    {
      "cell_type": "code",
      "source": [
        "def consistent_performer(df  , role ):\n",
        "  popularity = df.loc[df['role'] ==role,['id','person_id','name' , 'tmdb_popularity']  ].groupby('person_id').agg(\n",
        "   mean_popularity =  ('tmdb_popularity' , 'mean') ,\n",
        "   count = ('id' , 'count')\n",
        "  ).query('count>5').sort_values(by =  'mean_popularity' , ascending  =  False).reset_index()\n",
        "  return popularity"
      ],
      "metadata": {
        "id": "IHBFe-7-6nm_"
      },
      "execution_count": null,
      "outputs": []
    },
    {
      "cell_type": "code",
      "source": [
        "consitent_actors = consistent_performer(credits_titles_data , 'ACTOR')\n",
        "consitent_actors"
      ],
      "metadata": {
        "collapsed": true,
        "id": "W8g5fVWE8pO6"
      },
      "execution_count": null,
      "outputs": []
    },
    {
      "cell_type": "code",
      "source": [
        "consitent_director = consistent_performer(credits_titles_data , 'DIRECTOR')\n",
        "consitent_director"
      ],
      "metadata": {
        "collapsed": true,
        "id": "ChL-ywVq-bQg"
      },
      "execution_count": null,
      "outputs": []
    },
    {
      "cell_type": "code",
      "source": [
        "# identify the shows/movies which are not popular but have high imdb_score -> comparing the number of votes by popularity\n",
        "imdb_score_threshold =  titles_df['imdb_score'].quantile(0.85)\n",
        "popularity_threshold =  titles_df['tmdb_popularity_normalized'].quantile(0.25)\n",
        "\n",
        "high_imdb_score_low_popularity = titles_df[(titles_df['imdb_score']>= imdb_score_threshold)& (titles_df['tmdb_popularity_normalized'] <= popularity_threshold)].drop_duplicates('id')\n",
        "\n",
        "high_imdb_score_low_popularity"
      ],
      "metadata": {
        "collapsed": true,
        "id": "kBH8xEzD5F-n"
      },
      "execution_count": null,
      "outputs": []
    },
    {
      "cell_type": "code",
      "source": [
        "# identify the shows/movies which are popular but have low imdb_score -> comparing the number of votes by popularity\n",
        "imdb_score_threshold =  titles_df['imdb_score'].quantile(0.25)\n",
        "popularity_threshold =  titles_df['tmdb_popularity_normalized'].quantile(0.80)\n",
        "\n",
        "low_imdb_score_high_popularity = titles_df[(titles_df['imdb_score']<= imdb_score_threshold)& (titles_df['tmdb_popularity_normalized'] >= popularity_threshold)].drop_duplicates('id')\n",
        "\n",
        "low_imdb_score_high_popularity"
      ],
      "metadata": {
        "collapsed": true,
        "id": "vLTnYM4cGZBP"
      },
      "execution_count": null,
      "outputs": []
    },
    {
      "cell_type": "code",
      "source": [
        "# genre wise leader of the production\n"
      ],
      "metadata": {
        "id": "bKA7zMQIof08"
      },
      "execution_count": null,
      "outputs": []
    },
    {
      "cell_type": "markdown",
      "source": [
        "### What all manipulations have you done and insights you found?"
      ],
      "metadata": {
        "id": "MSa1f5Uengrz"
      }
    },
    {
      "cell_type": "markdown",
      "source": [
        "Answer Here."
      ],
      "metadata": {
        "id": "LbyXE7I1olp8"
      }
    },
    {
      "cell_type": "markdown",
      "source": [
        "## ***4. Data Vizualization, Storytelling & Experimenting with charts : Understand the relationships between variables***"
      ],
      "metadata": {
        "id": "GF8Ens_Soomf"
      }
    },
    {
      "cell_type": "markdown",
      "source": [
        "#### Chart -1  histogram plot for imdb_score , tmdb_score , popularity"
      ],
      "metadata": {
        "id": "0wOQAZs5pc--"
      }
    },
    {
      "cell_type": "code",
      "source": [
        "# Chart - 1 visualization code\n",
        "fig , axs =  plt.subplots(1,3 , figsize =  (18,6))\n",
        "features =  ['imdb_score' , 'tmdb_score' , 'tmdb_popularity']\n",
        "heading =  ['IMDB Score Distribution' , 'TMDB Score Distribution' , 'TMDB Popularity Distribution']\n",
        "for i in range(len(features)):\n",
        "  sns.histplot(x= features[i] , data  =  titles_data , kde =  True , ax=  axs[i])\n",
        "  plt.xlabel(features[i])\n",
        "  axs[i].set_title(heading[i])\n",
        "plt.tight_layout()\n",
        "plt.show()"
      ],
      "metadata": {
        "id": "7v_ESjsspbW7"
      },
      "execution_count": null,
      "outputs": []
    },
    {
      "cell_type": "markdown",
      "source": [
        "##### 1. Why did you pick the specific chart?"
      ],
      "metadata": {
        "id": "K5QZ13OEpz2H"
      }
    },
    {
      "cell_type": "markdown",
      "source": [
        "To understand the distribution of the variables and skewness in thier distribution."
      ],
      "metadata": {
        "id": "XESiWehPqBRc"
      }
    },
    {
      "cell_type": "markdown",
      "source": [
        "##### 2. What is/are the insight(s) found from the chart?"
      ],
      "metadata": {
        "id": "lQ7QKXXCp7Bj"
      }
    },
    {
      "cell_type": "markdown",
      "source": [
        "imdb_score andn tmdb_score is left skewed and tmdb_popularity is highly right skewed."
      ],
      "metadata": {
        "id": "C_j1G7yiqdRP"
      }
    },
    {
      "cell_type": "markdown",
      "source": [
        "##### 3. Will the gained insights help creating a positive business impact?\n",
        "Are there any insights that lead to negative growth? Justify with specific reason."
      ],
      "metadata": {
        "id": "448CDAPjqfQr"
      }
    },
    {
      "cell_type": "markdown",
      "source": [
        "this will help to clean the data and fill the null value by helping use to choose between median and mode."
      ],
      "metadata": {
        "id": "3cspy4FjqxJW"
      }
    },
    {
      "cell_type": "markdown",
      "source": [
        "#### Chart - 2 box plot for imdb_score , tmdb_score , tmdb_popularity"
      ],
      "metadata": {
        "id": "KSlN3yHqYklG"
      }
    },
    {
      "cell_type": "code",
      "source": [
        "# Chart - 2 visualization code\n",
        "\n",
        "fig , axs =  plt.subplots(3,1 , figsize =  (18,10))\n",
        "features =  ['imdb_score' , 'tmdb_score' , 'tmdb_popularity_normalized']\n",
        "heading =  ['IMDB Score Box Plot' , 'TMDB Score Box Plot' , 'TMDB Popularity Box Plot']\n",
        "\n",
        "for i in range(len(features)):\n",
        "  sns.boxplot(x  =  features[i] , data  =  titles_cleaned_data , ax= axs[i])\n",
        "  plt.xlabel(features[i])\n",
        "  axs[i].set_title(heading[i])\n",
        "  plt.tight_layout(pad=3.0)\n",
        "plt.show()"
      ],
      "metadata": {
        "id": "R4YgtaqtYklH"
      },
      "execution_count": null,
      "outputs": []
    },
    {
      "cell_type": "markdown",
      "source": [
        "##### 1. Why did you pick the specific chart?"
      ],
      "metadata": {
        "id": "t6dVpIINYklI"
      }
    },
    {
      "cell_type": "markdown",
      "source": [
        "Box plots are the most efficient way to  detct oulier understand the value distribution."
      ],
      "metadata": {
        "id": "5aaW0BYyYklI"
      }
    },
    {
      "cell_type": "markdown",
      "source": [
        "##### 2. What is/are the insight(s) found from the chart?"
      ],
      "metadata": {
        "id": "ijmpgYnKYklI"
      }
    },
    {
      "cell_type": "markdown",
      "source": [
        "Yes so for imdb_score and tmdb score tho there extream value exists but we cant label them as ouulier as they both are  in the valid range of 1 to  10 ."
      ],
      "metadata": {
        "id": "PSx9atu2YklI"
      }
    },
    {
      "cell_type": "markdown",
      "source": [
        "##### 3. Will the gained insights help creating a positive business impact?\n",
        "Are there any insights that lead to negative growth? Justify with specific reason."
      ],
      "metadata": {
        "id": "-JiQyfWJYklI"
      }
    },
    {
      "cell_type": "markdown",
      "source": [
        "no there no such indication of the neagtive growth it just tell imdb_score and tmdb_score are  in the correct range and we need to  handle the popularity  by bring it to  certain range by normalizing and remove them."
      ],
      "metadata": {
        "id": "BcBbebzrYklV"
      }
    },
    {
      "cell_type": "markdown",
      "source": [
        "#### Chart - 3 pair plot"
      ],
      "metadata": {
        "id": "EM7whBJCYoAo"
      }
    },
    {
      "cell_type": "code",
      "source": [
        "# Chart - 3 visualization code\n",
        "movies = titles_cleaned_data_no_outlier[titles_cleaned_data_no_outlier['type'] == 'MOVIE'].drop_duplicates(subset='id')\n",
        "shows = titles_cleaned_data_no_outlier[titles_cleaned_data_no_outlier['type'] == 'SHOW'].drop_duplicates(subset='id')\n",
        "sns.pairplot(movies[['runtime', 'imdb_score', 'tmdb_score', 'tmdb_popularity']])\n",
        "plt.suptitle(\"Movies: Runtime vs Ratings/Popularity\", y=1.02)\n",
        "plt.show()\n",
        "\n",
        "shows[['seasons', 'imdb_score', 'tmdb_score', 'tmdb_popularity']].corr()\n",
        "sns.pairplot(shows[['seasons', 'imdb_score', 'tmdb_score', 'tmdb_popularity']])\n",
        "plt.suptitle(\"Shows: Seasons vs Ratings/Popularity\", y=1.02)\n",
        "plt.show()\n",
        " # use bar insted this\n",
        "\n",
        "\n",
        "\n"
      ],
      "metadata": {
        "id": "t6GMdE67YoAp"
      },
      "execution_count": null,
      "outputs": []
    },
    {
      "cell_type": "markdown",
      "source": [
        "##### 1. Why did you pick the specific chart?"
      ],
      "metadata": {
        "id": "fge-S5ZAYoAp"
      }
    },
    {
      "cell_type": "markdown",
      "source": [
        "It tells the the realtionship between the multiple variable and show the clients very effectivily."
      ],
      "metadata": {
        "id": "5dBItgRVYoAp"
      }
    },
    {
      "cell_type": "markdown",
      "source": [
        "##### 2. What is/are the insight(s) found from the chart?"
      ],
      "metadata": {
        "id": "85gYPyotYoAp"
      }
    },
    {
      "cell_type": "markdown",
      "source": [
        "imdb_score in genral reduced after the runtime of 175 before it it was showing many movies with the high score.\n",
        "\n",
        "there are many high popularity movies whifh are in between 75 - 175 runntime.\n",
        "\n",
        "below 75 runtime again the the popularity is reducing.\n",
        "\n",
        "all the movies with above 8 tmdb_sore is in between 75 185.\n",
        "\n",
        "seasons with 1 - 7 there are many ssows which have high imdb_score.\n",
        "\n",
        "shows with more than 20 seasons has significcatnt drop in popularty , imdb score and tmdb score."
      ],
      "metadata": {
        "id": "4jstXR6OYoAp"
      }
    },
    {
      "cell_type": "markdown",
      "source": [
        "##### 3. Will the gained insights help creating a positive business impact?\n",
        "Are there any insights that lead to negative growth? Justify with specific reason."
      ],
      "metadata": {
        "id": "RoGjAbkUYoAp"
      }
    },
    {
      "cell_type": "markdown",
      "source": [
        "yes , if runtime goes above 175 popularity , imdb_scoreand and tmdb-score redice significantly.\n",
        "\n",
        "and if seasons is more than 20 there is a drop in popularity , imdb_score , tmdb_score."
      ],
      "metadata": {
        "id": "zfJ8IqMcYoAp"
      }
    },
    {
      "cell_type": "markdown",
      "source": [
        "#### Chart - 4 correlation"
      ],
      "metadata": {
        "id": "4Of9eVA-YrdM"
      }
    },
    {
      "cell_type": "code",
      "source": [
        "# Chart - 4 visualization code\n",
        "titles_data_for_relation  =  titles_data.drop_duplicates(subset='id').dropna(subset= ['imdb_score' , 'imdb_votes' , 'tmdb_popularity','tmdb_score'])\n",
        "titles_data_for_relation[['imdb_score' , 'imdb_votes' , 'tmdb_popularity','tmdb_score' ]].corr()\n",
        "sns.heatmap(titles_data_for_relation[['imdb_score' , 'imdb_votes' , 'tmdb_popularity','tmdb_score' ]].corr() , annot = True , fmt = '.2f' )\n",
        "\n",
        "plt.title('Correlation Between IMDb & TMDb Scores/Votes/Popularity')\n",
        "plt.xticks(rotation =  90)\n",
        "plt.show()"
      ],
      "metadata": {
        "id": "irlUoxc8YrdO"
      },
      "execution_count": null,
      "outputs": []
    },
    {
      "cell_type": "markdown",
      "source": [
        "##### 1. Why did you pick the specific chart?"
      ],
      "metadata": {
        "id": "iky9q4vBYrdO"
      }
    },
    {
      "cell_type": "markdown",
      "source": [
        "to show how the imdb_score , tmdb_popularity , tmdb_score , imdb_votes , to understant how each of these variable are realted to each other."
      ],
      "metadata": {
        "id": "aJRCwT6DYrdO"
      }
    },
    {
      "cell_type": "markdown",
      "source": [
        "##### 2. What is/are the insight(s) found from the chart?"
      ],
      "metadata": {
        "id": "F6T5p64dYrdO"
      }
    },
    {
      "cell_type": "markdown",
      "source": [
        "there is no significant relationship among the  variables but imdb_score and tmdb-score has medium level relationships."
      ],
      "metadata": {
        "id": "Xx8WAJvtYrdO"
      }
    },
    {
      "cell_type": "markdown",
      "source": [
        "##### 3. Will the gained insights help creating a positive business impact?\n",
        "Are there any insights that lead to negative growth? Justify with specific reason."
      ],
      "metadata": {
        "id": "y-Ehk30pYrdP"
      }
    },
    {
      "cell_type": "markdown",
      "source": [
        "For for individual platform we need to  to  independent analysis for tmdb and imdb."
      ],
      "metadata": {
        "id": "jLNxxz7MYrdP"
      }
    },
    {
      "cell_type": "markdown",
      "source": [
        "#### Chart - 5 genre vs tmdb_popularity barplot"
      ],
      "metadata": {
        "id": "bamQiAODYuh1"
      }
    },
    {
      "cell_type": "code",
      "source": [
        "# Chart - 5 visualization code\n",
        "sns.barplot(x  =  'genres' ,  y =  'tmdb_popularity' , data  =  titles_df)\n",
        "plt.xticks(rotation =90)\n",
        "plt.show()"
      ],
      "metadata": {
        "id": "TIJwrbroYuh3"
      },
      "execution_count": null,
      "outputs": []
    },
    {
      "cell_type": "markdown",
      "source": [
        "##### 1. Why did you pick the specific chart?"
      ],
      "metadata": {
        "id": "QHF8YVU7Yuh3"
      }
    },
    {
      "cell_type": "markdown",
      "source": [
        "bar chart best for categorical values and bivariate analysis and represnt the data very clearly with clear meassage."
      ],
      "metadata": {
        "id": "dcxuIMRPYuh3"
      }
    },
    {
      "cell_type": "markdown",
      "source": [
        "##### 2. What is/are the insight(s) found from the chart?"
      ],
      "metadata": {
        "id": "GwzvFGzlYuh3"
      }
    },
    {
      "cell_type": "markdown",
      "source": [
        "animation ,sci-fi ,  fantacy , and european are some of the most popular genres.\n",
        "\n",
        "documantation and wester and least popular."
      ],
      "metadata": {
        "id": "uyqkiB8YYuh3"
      }
    },
    {
      "cell_type": "markdown",
      "source": [
        "##### 3. Will the gained insights help creating a positive business impact?\n",
        "Are there any insights that lead to negative growth? Justify with specific reason."
      ],
      "metadata": {
        "id": "qYpmQ266Yuh3"
      }
    },
    {
      "cell_type": "markdown",
      "source": [
        "yes investing  more in the less popular movie in  marketing will be a loss to the comapny."
      ],
      "metadata": {
        "id": "_WtzZ_hCYuh4"
      }
    },
    {
      "cell_type": "markdown",
      "source": [
        "#### Chart - 6 pie_chart movies and shows"
      ],
      "metadata": {
        "id": "OH-pJp9IphqM"
      }
    },
    {
      "cell_type": "code",
      "source": [
        "# Chart - 6 visualization code\n",
        "\n",
        "plt.pie(x= number_shows_movies['count'] , labels = number_shows_movies['type'] , autopct = '%1.1f%%' )\n",
        "plt.show()"
      ],
      "metadata": {
        "id": "kuRf4wtuphqN"
      },
      "execution_count": null,
      "outputs": []
    },
    {
      "cell_type": "markdown",
      "source": [
        "##### 1. Why did you pick the specific chart?"
      ],
      "metadata": {
        "id": "bbFf2-_FphqN"
      }
    },
    {
      "cell_type": "markdown",
      "source": [
        "pie chart effictilly shows the frequency of the classes"
      ],
      "metadata": {
        "id": "loh7H2nzphqN"
      }
    },
    {
      "cell_type": "markdown",
      "source": [
        "##### 2. What is/are the insight(s) found from the chart?"
      ],
      "metadata": {
        "id": "_ouA3fa0phqN"
      }
    },
    {
      "cell_type": "markdown",
      "source": [
        "production of shows are comperatively too less than movies."
      ],
      "metadata": {
        "id": "VECbqPI7phqN"
      }
    },
    {
      "cell_type": "markdown",
      "source": [
        "##### 3. Will the gained insights help creating a positive business impact?\n",
        "Are there any insights that lead to negative growth? Justify with specific reason."
      ],
      "metadata": {
        "id": "Seke61FWphqN"
      }
    },
    {
      "cell_type": "markdown",
      "source": [
        "yes , some times few shows get a high popularty gain and shows are highly enagaging hence less number of shos can keep the platform deprived of high engagement."
      ],
      "metadata": {
        "id": "DW4_bGpfphqN"
      }
    },
    {
      "cell_type": "markdown",
      "source": [
        "#### Chart - 7 genre vs popularity"
      ],
      "metadata": {
        "id": "PIIx-8_IphqN"
      }
    },
    {
      "cell_type": "code",
      "source": [
        "# Chart - 7 visualization code\n",
        "\n",
        "# genre vs popularity\n",
        "sns.histplot(x  =  'genres' , data  =  titles_df)\n",
        "plt.xticks(rotation =90)\n",
        "plt.show()"
      ],
      "metadata": {
        "id": "lqAIGUfyphqO"
      },
      "execution_count": null,
      "outputs": []
    },
    {
      "cell_type": "markdown",
      "source": [
        "##### 1. Why did you pick the specific chart?"
      ],
      "metadata": {
        "id": "t27r6nlMphqO"
      }
    },
    {
      "cell_type": "markdown",
      "source": [
        "hist plot are good to visually see the count of unique values within a single variable"
      ],
      "metadata": {
        "id": "iv6ro40sphqO"
      }
    },
    {
      "cell_type": "markdown",
      "source": [
        "##### 2. What is/are the insight(s) found from the chart?"
      ],
      "metadata": {
        "id": "r2jJGEOYphqO"
      }
    },
    {
      "cell_type": "markdown",
      "source": [
        "there is high imbalnce in certain type of genres production."
      ],
      "metadata": {
        "id": "Po6ZPi4hphqO"
      }
    },
    {
      "cell_type": "markdown",
      "source": [
        "##### 3. Will the gained insights help creating a positive business impact?\n",
        "Are there any insights that lead to negative growth? Justify with specific reason."
      ],
      "metadata": {
        "id": "b0JNsNcRphqO"
      }
    },
    {
      "cell_type": "markdown",
      "source": [
        "yes , people can like some of the genres which are not produced."
      ],
      "metadata": {
        "id": "xvSq8iUTphqO"
      }
    },
    {
      "cell_type": "markdown",
      "source": [
        "#### Chart - 8 trend of the decade"
      ],
      "metadata": {
        "id": "BZR9WyysphqO"
      }
    },
    {
      "cell_type": "code",
      "source": [
        "# Chart - 8 visualization code\n",
        "\n",
        "\n",
        "\n",
        "unique_genres = trend_df['genres'].unique()\n",
        "n = len(unique_genres)\n",
        "\n",
        "cols = 3\n",
        "rows = (n + cols - 1) // cols  # Ceiling division\n",
        "\n",
        "# Define figure and axes\n",
        "fig, axes = plt.subplots(rows, cols, figsize=(18, 5 * rows), sharex=False, sharey=False)\n",
        "axes = axes.flatten()\n",
        "\n",
        "# Define a nice color palette\n",
        "palette = sns.color_palette(\"Set2\", n_colors=n)\n",
        "\n",
        "# Set global style\n",
        "sns.set(style=\"whitegrid\")\n",
        "\n",
        "for i, genre in enumerate(unique_genres):\n",
        "    genre_data = trend_df[trend_df['genres'] == genre]\n",
        "    sns.lineplot(\n",
        "        data=genre_data,\n",
        "        x='decade',\n",
        "        y='tmdb_popularity',\n",
        "        ax=axes[i],\n",
        "        color=palette[i % len(palette)],\n",
        "        marker='o',\n",
        "        linewidth=2\n",
        "    )\n",
        "    axes[i].set_title(f'Genre: {genre}', fontsize=14, weight='bold')\n",
        "    axes[i].set_xlabel('Decade', fontsize=12)\n",
        "    axes[i].set_ylabel('Avg Popularity', fontsize=12)\n",
        "    axes[i].tick_params(axis='x', rotation=45)\n",
        "    axes[i].grid(True)\n",
        "\n",
        "# Hide unused subplots\n",
        "for j in range(i+1, len(axes)):\n",
        "    fig.delaxes(axes[j])\n",
        "\n",
        "plt.suptitle('📈 TMDb Popularity Trend per Genre (by Decade)', fontsize=18, weight='bold', y=1.02)\n",
        "plt.tight_layout()\n",
        "plt.subplots_adjust(top=0.92)  # Adjust for suptitle space\n",
        "plt.show()\n"
      ],
      "metadata": {
        "id": "TdPTWpAVphqO"
      },
      "execution_count": null,
      "outputs": []
    },
    {
      "cell_type": "markdown",
      "source": [
        "##### 1. Why did you pick the specific chart?"
      ],
      "metadata": {
        "id": "jj7wYXLtphqO"
      }
    },
    {
      "cell_type": "markdown",
      "source": [
        "line chart are best to comparethe trends spicially when trend has to  be analysed across the time."
      ],
      "metadata": {
        "id": "Ob8u6rCTphqO"
      }
    },
    {
      "cell_type": "markdown",
      "source": [
        "##### 2. What is/are the insight(s) found from the chart?"
      ],
      "metadata": {
        "id": "eZrbJ2SmphqO"
      }
    },
    {
      "cell_type": "markdown",
      "source": [
        "action, comedy, drama, triller , crime in genral has growing popularity.\n",
        "\n",
        "anime has decresing trend.\n",
        "\n",
        "horror movies shows a dip in popularity in last two deacade.\n",
        "\n",
        "scifi has high popularity in last two decade."
      ],
      "metadata": {
        "id": "mZtgC_hjphqO"
      }
    },
    {
      "cell_type": "markdown",
      "source": [
        "##### 3. Will the gained insights help creating a positive business impact?\n",
        "Are there any insights that lead to negative growth? Justify with specific reason."
      ],
      "metadata": {
        "id": "rFu4xreNphqO"
      }
    },
    {
      "cell_type": "markdown",
      "source": [
        "Answer Here\n",
        "\n",
        "yes this inshights shows which content are liked by customes and is worth to invest money on.\n"
      ],
      "metadata": {
        "id": "ey_0qi68phqO"
      }
    },
    {
      "cell_type": "markdown",
      "source": [
        "#### Chart - 9"
      ],
      "metadata": {
        "id": "YJ55k-q6phqO"
      }
    },
    {
      "cell_type": "code",
      "source": [
        "# Chart - 9 visualization col\n",
        "# shows and movies popularity\n",
        "sns.barplot( x = 'type' , y= 'tmdb_popularity_normalized' , data  =  titles_df.drop_duplicates(subset='id').groupby('type')['tmdb_popularity_normalized'].mean().reset_index())"
      ],
      "metadata": {
        "id": "B2aS4O1ophqO"
      },
      "execution_count": null,
      "outputs": []
    },
    {
      "cell_type": "code",
      "source": [
        "titles_df.drop_duplicates(subset='id').groupby('type')['tmdb_popularity_normalized'].mean().reset_index()"
      ],
      "metadata": {
        "id": "ThbEpguJQ3aU"
      },
      "execution_count": null,
      "outputs": []
    },
    {
      "cell_type": "markdown",
      "source": [
        "##### 1. Why did you pick the specific chart?"
      ],
      "metadata": {
        "id": "gCFgpxoyphqP"
      }
    },
    {
      "cell_type": "markdown",
      "source": [
        "Answer Here."
      ],
      "metadata": {
        "id": "TVxDimi2phqP"
      }
    },
    {
      "cell_type": "markdown",
      "source": [
        "##### 2. What is/are the insight(s) found from the chart?"
      ],
      "metadata": {
        "id": "OVtJsKN_phqQ"
      }
    },
    {
      "cell_type": "markdown",
      "source": [
        "Answer Here"
      ],
      "metadata": {
        "id": "ngGi97qjphqQ"
      }
    },
    {
      "cell_type": "markdown",
      "source": [
        "##### 3. Will the gained insights help creating a positive business impact?\n",
        "Are there any insights that lead to negative growth? Justify with specific reason."
      ],
      "metadata": {
        "id": "lssrdh5qphqQ"
      }
    },
    {
      "cell_type": "markdown",
      "source": [
        "Answer Here"
      ],
      "metadata": {
        "id": "tBpY5ekJphqQ"
      }
    },
    {
      "cell_type": "markdown",
      "source": [
        "#### Chart - 10"
      ],
      "metadata": {
        "id": "U2RJ9gkRphqQ"
      }
    },
    {
      "cell_type": "code",
      "source": [
        "# Chart - 10 visualization code\n",
        "\n",
        "# trend across decades of shows vs movies and popupularity\n",
        "trend_shows_movies_popularity\n",
        "fig , axs =  plt.subplots(1,2 , figsize = (10, 4))\n",
        "palette = sns.color_palette(\"Set2\", n_colors=2)\n",
        "sns.lineplot(data  =  trend_shows_movies_popularity[trend_shows_movies_popularity['type'] =='MOVIE'] , x = 'decade' , y= 'tmdb_popularity' , ax=  axs[0] , color = palette[1])\n",
        "axs[0].set_title('Movie trend Over the decade')\n",
        "sns.lineplot(data  =  trend_shows_movies_popularity[trend_shows_movies_popularity['type'] =='SHOW'] , x = 'decade' , y= 'tmdb_popularity' , ax=  axs[1] , color = palette[0])\n",
        "axs[1].set_title('Shows trend Over the decade')\n",
        "plt.show()"
      ],
      "metadata": {
        "id": "GM7a4YP4phqQ"
      },
      "execution_count": null,
      "outputs": []
    },
    {
      "cell_type": "markdown",
      "source": [
        "##### 1. Why did you pick the specific chart?"
      ],
      "metadata": {
        "id": "1M8mcRywphqQ"
      }
    },
    {
      "cell_type": "markdown",
      "source": [
        "line chart is best suited for time line analysis and more ever here i have seprated the movie and shows which clearly represent the trend."
      ],
      "metadata": {
        "id": "8agQvks0phqQ"
      }
    },
    {
      "cell_type": "markdown",
      "source": [
        "##### 2. What is/are the insight(s) found from the chart?"
      ],
      "metadata": {
        "id": "tgIPom80phqQ"
      }
    },
    {
      "cell_type": "markdown",
      "source": [
        "for movies there is linear growth in popularity from 1930s then there is dip 2000 to 2020s.\n",
        "\n",
        "shows in genreal have more popularity comapre to movies."
      ],
      "metadata": {
        "id": "Qp13pnNzphqQ"
      }
    },
    {
      "cell_type": "markdown",
      "source": [
        "##### 3. Will the gained insights help creating a positive business impact?\n",
        "Are there any insights that lead to negative growth? Justify with specific reason."
      ],
      "metadata": {
        "id": "JMzcOPDDphqR"
      }
    },
    {
      "cell_type": "markdown",
      "source": [],
      "metadata": {
        "id": "R4Ka1PC2phqR"
      }
    },
    {
      "cell_type": "markdown",
      "source": [
        "#### Chart - 11"
      ],
      "metadata": {
        "id": "x-EpHcCOp1ci"
      }
    },
    {
      "cell_type": "code",
      "source": [
        "# Chart - 11 visualization code\n",
        "sns.barplot(x = 'genres', y =  'imdb_score'  , data  = titles_df  )\n",
        "plt.xticks(rotation=90)\n",
        "plt.title('Genre Frequency')\n",
        "plt.xlabel('Genre')\n",
        "plt.ylabel('IMDB score')\n",
        "plt.show()"
      ],
      "metadata": {
        "id": "mAQTIvtqp1cj"
      },
      "execution_count": null,
      "outputs": []
    },
    {
      "cell_type": "markdown",
      "source": [
        "##### 1. Why did you pick the specific chart?"
      ],
      "metadata": {
        "id": "X_VqEhTip1ck"
      }
    },
    {
      "cell_type": "markdown",
      "source": [
        "it repesent the mean imdb score of each genre, this repesent the liking of each genre."
      ],
      "metadata": {
        "id": "-vsMzt_np1ck"
      }
    },
    {
      "cell_type": "markdown",
      "source": [
        "##### 2. What is/are the insight(s) found from the chart?"
      ],
      "metadata": {
        "id": "8zGJKyg5p1ck"
      }
    },
    {
      "cell_type": "markdown",
      "source": [
        "there is no significant variations in the imdb score with respect to  genre."
      ],
      "metadata": {
        "id": "ZYdMsrqVp1ck"
      }
    },
    {
      "cell_type": "markdown",
      "source": [
        "##### 3. Will the gained insights help creating a positive business impact?\n",
        "Are there any insights that lead to negative growth? Justify with specific reason."
      ],
      "metadata": {
        "id": "PVzmfK_Ep1ck"
      }
    },
    {
      "cell_type": "markdown",
      "source": [
        "there can be incresed in the good horror content."
      ],
      "metadata": {
        "id": "druuKYZpp1ck"
      }
    },
    {
      "cell_type": "markdown",
      "source": [
        "#### Chart - 12"
      ],
      "metadata": {
        "id": "n3dbpmDWp1ck"
      }
    },
    {
      "cell_type": "code",
      "source": [
        "# Chart - 12 visualization code\n",
        "melted = duration_trend.melt(id_vars=\"duration_category\",\n",
        "                             value_vars=[\"tmdb_popularity_mean\", \"imdb_score_mean\", \"tmdb_score_mean\"],\n",
        "                             var_name=\"Metric\",\n",
        "                             value_name=\"Value\")\n",
        "\n",
        "# Replace column names for better display\n",
        "melted['Metric'] = melted['Metric'].replace({\n",
        "    'tmdb_popularity_mean': 'TMDb Popularity',\n",
        "    'imdb_score_mean': 'IMDb Score',\n",
        "    'tmdb_score_mean': 'TMDb Score'\n",
        "})\n",
        "\n",
        "# Plot\n",
        "plt.figure(figsize=(10, 6))\n",
        "sns.barplot(data=melted, x='duration_category', y='Value', hue='Metric')\n",
        "\n",
        "# Labels and title\n",
        "plt.title('Average Scores & Popularity by Duration Category')\n",
        "plt.xlabel('Duration Category')\n",
        "plt.ylabel('Average Value')\n",
        "plt.legend(title='Metric')\n",
        "plt.tight_layout()\n",
        "plt.show()\n"
      ],
      "metadata": {
        "id": "bwevp1tKp1ck"
      },
      "execution_count": null,
      "outputs": []
    },
    {
      "cell_type": "markdown",
      "source": [
        "##### 1. Why did you pick the specific chart?"
      ],
      "metadata": {
        "id": "ylSl6qgtp1ck"
      }
    },
    {
      "cell_type": "markdown",
      "source": [
        "Answer Here."
      ],
      "metadata": {
        "id": "m2xqNkiQp1ck"
      }
    },
    {
      "cell_type": "markdown",
      "source": [
        "##### 2. What is/are the insight(s) found from the chart?"
      ],
      "metadata": {
        "id": "ZWILFDl5p1ck"
      }
    },
    {
      "cell_type": "markdown",
      "source": [
        "Answer Here"
      ],
      "metadata": {
        "id": "x-lUsV2mp1ck"
      }
    },
    {
      "cell_type": "markdown",
      "source": [
        "##### 3. Will the gained insights help creating a positive business impact?\n",
        "Are there any insights that lead to negative growth? Justify with specific reason."
      ],
      "metadata": {
        "id": "M7G43BXep1ck"
      }
    },
    {
      "cell_type": "markdown",
      "source": [
        "Answer Here"
      ],
      "metadata": {
        "id": "5wwDJXsLp1cl"
      }
    },
    {
      "cell_type": "markdown",
      "source": [
        "#### Chart - 13"
      ],
      "metadata": {
        "id": "Ag9LCva-p1cl"
      }
    },
    {
      "cell_type": "code",
      "source": [
        "# Chart - 13 visualization code\n",
        "country_counts = top_movies['production_countries'].value_counts().reset_index()\n",
        "country_counts.columns = ['production_countries', 'count']\n",
        "\n",
        "# Step 3: Group top 6 and rest as \"Others\"\n",
        "top_6 = country_counts[:6]\n",
        "others = country_counts[6:]\n",
        "others_sum = others['count'].sum()\n",
        "\n",
        "# Append \"Others\" to the top 6\n",
        "final_counts = top_6.copy()\n",
        "final_counts.loc[len(top_6)] = ['Others', others_sum]\n",
        "\n",
        "# Step 4: Plot\n",
        "plt.figure(figsize=(8, 8))\n",
        "plt.pie(final_counts['count'], labels=final_counts['production_countries'], autopct='%1.1f%%', startangle=140)\n",
        "plt.title('Top 10% IMDb Movies by Production Country (Grouped)')\n",
        "plt.axis('equal')\n",
        "plt.show()"
      ],
      "metadata": {
        "id": "EUfxeq9-p1cl"
      },
      "execution_count": null,
      "outputs": []
    },
    {
      "cell_type": "markdown",
      "source": [
        "##### 1. Why did you pick the specific chart?"
      ],
      "metadata": {
        "id": "E6MkPsBcp1cl"
      }
    },
    {
      "cell_type": "markdown",
      "source": [
        "Answer Here."
      ],
      "metadata": {
        "id": "V22bRsFWp1cl"
      }
    },
    {
      "cell_type": "markdown",
      "source": [
        "##### 2. What is/are the insight(s) found from the chart?"
      ],
      "metadata": {
        "id": "2cELzS2fp1cl"
      }
    },
    {
      "cell_type": "markdown",
      "source": [
        "Answer Here"
      ],
      "metadata": {
        "id": "ozQPc2_Ip1cl"
      }
    },
    {
      "cell_type": "markdown",
      "source": [
        "##### 3. Will the gained insights help creating a positive business impact?\n",
        "Are there any insights that lead to negative growth? Justify with specific reason."
      ],
      "metadata": {
        "id": "3MPXvC8up1cl"
      }
    },
    {
      "cell_type": "markdown",
      "source": [
        "Answer Here"
      ],
      "metadata": {
        "id": "GL8l1tdLp1cl"
      }
    },
    {
      "cell_type": "code",
      "source": [],
      "metadata": {
        "id": "bRhVu1vXsSdb"
      },
      "execution_count": null,
      "outputs": []
    },
    {
      "cell_type": "markdown",
      "source": [
        "#### Chart - 14 - Correlation Heatmap"
      ],
      "metadata": {
        "id": "NC_X3p0fY2L0"
      }
    },
    {
      "cell_type": "code",
      "source": [
        "# Correlation Heatmap visualization code"
      ],
      "metadata": {
        "id": "xyC9zolEZNRQ"
      },
      "execution_count": null,
      "outputs": []
    },
    {
      "cell_type": "markdown",
      "source": [
        "##### 1. Why did you pick the specific chart?"
      ],
      "metadata": {
        "id": "UV0SzAkaZNRQ"
      }
    },
    {
      "cell_type": "markdown",
      "source": [
        "Answer Here."
      ],
      "metadata": {
        "id": "DVPuT8LYZNRQ"
      }
    },
    {
      "cell_type": "markdown",
      "source": [
        "##### 2. What is/are the insight(s) found from the chart?"
      ],
      "metadata": {
        "id": "YPEH6qLeZNRQ"
      }
    },
    {
      "cell_type": "markdown",
      "source": [
        "Answer Here"
      ],
      "metadata": {
        "id": "bfSqtnDqZNRR"
      }
    },
    {
      "cell_type": "markdown",
      "source": [
        "#### Chart - 15 - Pair Plot"
      ],
      "metadata": {
        "id": "q29F0dvdveiT"
      }
    },
    {
      "cell_type": "code",
      "source": [
        "# Pair Plot visualization code"
      ],
      "metadata": {
        "id": "o58-TEIhveiU"
      },
      "execution_count": null,
      "outputs": []
    },
    {
      "cell_type": "markdown",
      "source": [
        "##### 1. Why did you pick the specific chart?"
      ],
      "metadata": {
        "id": "EXh0U9oCveiU"
      }
    },
    {
      "cell_type": "markdown",
      "source": [
        "Answer Here."
      ],
      "metadata": {
        "id": "eMmPjTByveiU"
      }
    },
    {
      "cell_type": "markdown",
      "source": [
        "##### 2. What is/are the insight(s) found from the chart?"
      ],
      "metadata": {
        "id": "22aHeOlLveiV"
      }
    },
    {
      "cell_type": "markdown",
      "source": [
        "Answer Here"
      ],
      "metadata": {
        "id": "uPQ8RGwHveiV"
      }
    },
    {
      "cell_type": "markdown",
      "source": [
        "## **5. Solution to Business Objective**"
      ],
      "metadata": {
        "id": "JcMwzZxoAimU"
      }
    },
    {
      "cell_type": "markdown",
      "source": [
        "#### What do you suggest the client to achieve Business Objective ?\n",
        "Explain Briefly."
      ],
      "metadata": {
        "id": "8G2x9gOozGDZ"
      }
    },
    {
      "cell_type": "markdown",
      "source": [
        "\n",
        "\n",
        "*   increse the content in documentation  and reality genra people like it but the number of content uploaded are less.\n",
        "*   there is drop in content upload from last deaced hence need to increse the content upload.\n",
        "\n",
        "*   there are many contries which doesnt have consistent content upload promt them to upload the content.\n",
        "\n",
        "*   increase the number of shows upload as shows genrally tends to show more popularity which  will increse the ingagement in the platform.\n",
        "\n",
        "* promte the marketing of the movies with high  imdb score more than 80 percentile  and low popularity less than 25 percentile.\n",
        "\n",
        "* prome the hypeof most popular movies with less imdb score so that trending videos are reached and watched maximum audinces.\n",
        "\n",
        "* there are few contry with high popularity but imdb score is less which is result of reginal movies like KR.\n",
        "\n",
        "* region based shows and movies should be promoted as movie may not have high popularity due to  less global promotion or less production but liked by locals.\n",
        "* history , documentation , war , anime are have very high imdb score and should be permoted globaly.\n",
        "\n",
        "* Give loyalty award for consitence content maker and provide award to for inconsitent producer for producing new content to promote content creation.\n"
      ],
      "metadata": {
        "id": "pASKb0qOza21"
      }
    },
    {
      "cell_type": "markdown",
      "source": [
        "# **Conclusion**"
      ],
      "metadata": {
        "id": "gCX9965dhzqZ"
      }
    },
    {
      "cell_type": "markdown",
      "source": [
        "Write the conclusion here."
      ],
      "metadata": {
        "id": "Fjb1IsQkh3yE"
      }
    },
    {
      "cell_type": "markdown",
      "source": [
        "### ***Hurrah! You have successfully completed your EDA Capstone Project !!!***"
      ],
      "metadata": {
        "id": "gIfDvo9L0UH2"
      }
    }
  ]
}