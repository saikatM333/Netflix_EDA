{
  "cells": [
    {
      "cell_type": "code",
      "execution_count": null,
      "metadata": {
        "id": "I1apcow5dxii"
      },
      "outputs": [],
      "source": []
    },
    {
      "cell_type": "markdown",
      "metadata": {
        "id": "vncDsAP0Gaoa"
      },
      "source": [
        "# **Project Name**    - Amazon Prime TV shows and movies\n",
        "\n"
      ]
    },
    {
      "cell_type": "markdown",
      "metadata": {
        "id": "beRrZCGUAJYm"
      },
      "source": [
        "##### **Project Type**    - EDA\n",
        "##### **Contribution**    - Individual\n",
        "  \n"
      ]
    },
    {
      "cell_type": "markdown",
      "metadata": {
        "id": "FJNUwmbgGyua"
      },
      "source": [
        "# **Project Summary -**"
      ]
    },
    {
      "cell_type": "markdown",
      "metadata": {
        "id": "F6v_1wHtG2nS"
      },
      "source": [
        "The objective of the project was to  explore and analyse data from the two datasets Titles and Credits take from Amazon prime video. The aim was to  clean, standardize and derive business level insights that can help stake holder in the streaming industry make informed decision. This project not only focus on the technical data processing but also  extracting real-world actionable insights from the data.\n",
        "\n",
        "### Dataset Overview\n",
        "\n",
        "The Titles dataset contains information about various TV shows and movies available on the platform, including metadata such as title names, release years, age certifications, runtimes, genres, production countries, IMDb and TMDB scores, and popularity metrics. It also differentiates between movies and TV shows, along with the number of seasons for shows.\n",
        "\n",
        "The Credits dataset provides a mapping between titles and the people involved in their creation primarily actors and directors. It contains each person's name, role, and in the case of actors, the character names they portrayed.\n",
        "\n",
        "### Data Preparation and Cleaning\n",
        "Data cleaning was a crucial first step to ensure accuracy and consistency. This included:\n",
        "\n",
        "* Standardizing textual fields (e.g., converting age certifications to uppercase and stripping whitespace).\n",
        "\n",
        "* Handling missing values appropriately, either through imputation or removal depending on the case.\n",
        "\n",
        "* Splitting and processing list-type fields (e.g., genres, production countries) for analysis.\n",
        "\n",
        "* Ensuring that numerical values like IMDb scores, votes, tmdb_popularity , tmdb score does'nt have outlier.\n",
        "\n",
        "### Key Business-Level Insights\n",
        "From this cleaned data, several meaningful insights were derived:\n",
        "\n",
        "* Genre Popularity Trends – Identified the most produced and most popular genres over the years, highlighting shifts in audience preferences.\n",
        "\n",
        "* Content Type Distribution – Measured the ratio of movies to TV shows, revealing trends toward serialized content versus standalone films.\n",
        "\n",
        "* Country Contribution Analysis – Determined which production countries dominate the catalog and their correlation with higher IMDb or TMDB scores.\n",
        "\n",
        "* Consistent Performing – Analyzed whether certain directors or actors consistently appear in high-rated or highly popular titles.\n",
        "\n",
        "* Age Certification Patterns – Mapped how age ratings align with popularity, providing guidance for future content targeting specific demographics.\n",
        "\n",
        "### Business Relevance\n",
        "The insights obtained from this analysis is help full content acquisition, marketing strategies, and production investment decisions. Like, knowing that a certain genre is consistently trending allows streaming platforms to prioritize acquiring or producing content in that category. Similarly, identifying top-performing actors or directors can inform casting decisions for new productions.\n",
        "\n",
        "### Tools & Technologies Used\n",
        "* Python: Data cleaning, transformation, and analysis using Pandas and NumPy.\n",
        "\n",
        "* Matplotlib & Seaborn: Data visualization to identify patterns and trends.\n",
        "\n",
        "* Jupyter Notebook: Interactive analysis and reporting."
      ]
    },
    {
      "cell_type": "markdown",
      "metadata": {
        "id": "w6K7xa23Elo4"
      },
      "source": [
        "# **GitHub Link -**"
      ]
    },
    {
      "cell_type": "markdown",
      "metadata": {
        "id": "h1o69JH3Eqqn"
      },
      "source": [
        "https://github.com/saikatM333/Netflix_EDA.git\n"
      ]
    },
    {
      "cell_type": "markdown",
      "metadata": {
        "id": "yQaldy8SH6Dl"
      },
      "source": [
        "# **Problem Statement**\n"
      ]
    },
    {
      "cell_type": "markdown",
      "metadata": {
        "id": "DpeJGUA3kjGy"
      },
      "source": [
        "**BUSINESS PROBLEM OVERVIEW**\n",
        "\n",
        "The streaming industry has become highly competitive, with multiple platforms vying for audience attention through diverse and engaging content. Amazon Prime Video, as one of the major players in this space, offers a vast library of movies and shows across various genres, regions, and formats.\n",
        "\n",
        "In such a market, understanding content diversity, regional distribution, evolving trends, and audience preferences is essential for sustaining subscriber growth and improving engagement. Data-driven insights enable platforms to invest in the right content, cater to regional demands, and enhance overall viewer satisfaction.\n",
        "\n",
        "This dataset has been compiled to analyze all shows and movies available on Amazon Prime Video, with the objective of identifying patterns and trends that can guide business strategies. The analysis focuses on:\n",
        "\n",
        "* Content Diversity: Determining which genres and categories dominate the platform.\n",
        "\n",
        "* Regional Availability: Understanding how content distribution varies across countries and regions.\n",
        "\n",
        "* Trends Over Time: Examining how the content library has evolved over the years.\n",
        "\n",
        "* Ratings & Popularity: Assessing IMDb ratings, TMDB scores, and popularity to identify high-performing titles.\n",
        "\n",
        "By analyzing these factors, businesses, content creators, and data analysts can uncover actionable insights to optimize content acquisition, identify audience preferences, address content gaps, and enhance engagement—ultimately strengthening Amazon Prime Video’s competitive position in the streaming industry.\n",
        "\n"
      ]
    },
    {
      "cell_type": "markdown",
      "metadata": {
        "id": "PH-0ReGfmX4f"
      },
      "source": [
        "#### **Define Your Business Objective?**"
      ]
    },
    {
      "cell_type": "markdown",
      "metadata": {
        "id": "PhDvGCAqmjP1"
      },
      "source": [
        "***TO IDENTIFY HIGH-PERFORMING SHOWS, MOVIES, ACTORS BASED ON RATINGS, TRENDS TO INCREASE THE PLATFORM ENGAGEMENT***"
      ]
    },
    {
      "cell_type": "markdown",
      "metadata": {
        "id": "mDgbUHAGgjLW"
      },
      "source": [
        "# **General Guidelines** : -  "
      ]
    },
    {
      "cell_type": "markdown",
      "metadata": {
        "id": "ZrxVaUj-hHfC"
      },
      "source": [
        "1.   Well-structured, formatted, and commented code is required.\n",
        "2.   Exception Handling, Production Grade Code & Deployment Ready Code will be a plus. Those students will be awarded some additional credits.\n",
        "     \n",
        "     The additional credits will have advantages over other students during Star Student selection.\n",
        "       \n",
        "             [ Note: - Deployment Ready Code is defined as, the whole .ipynb notebook should be executable in one go\n",
        "                       without a single error logged. ]\n",
        "\n",
        "3.   Each and every logic should have proper comments.\n",
        "4. You may add as many number of charts you want. Make Sure for each and every chart the following format should be answered.\n",
        "        \n",
        "\n",
        "```\n",
        "# Chart visualization code\n",
        "```\n",
        "            \n",
        "\n",
        "*   Why did you pick the specific chart?\n",
        "*   What is/are the insight(s) found from the chart?\n",
        "* Will the gained insights help creating a positive business impact?\n",
        "Are there any insights that lead to negative growth? Justify with specific reason.\n",
        "\n",
        "5. You have to create at least 20 logical & meaningful charts having important insights.\n",
        "\n",
        "\n",
        "[ Hints : - Do the Vizualization in  a structured way while following \"UBM\" Rule.\n",
        "\n",
        "U - Univariate Analysis,\n",
        "\n",
        "B - Bivariate Analysis (Numerical - Categorical, Numerical - Numerical, Categorical - Categorical)\n",
        "\n",
        "M - Multivariate Analysis\n",
        " ]\n",
        "\n",
        "\n",
        "\n"
      ]
    },
    {
      "cell_type": "markdown",
      "metadata": {
        "id": "O_i_v8NEhb9l"
      },
      "source": [
        "# ***Let's Begin !***"
      ]
    },
    {
      "cell_type": "markdown",
      "metadata": {
        "id": "HhfV-JJviCcP"
      },
      "source": [
        "## ***1. Know Your Data***"
      ]
    },
    {
      "cell_type": "markdown",
      "metadata": {
        "id": "Y3lxredqlCYt"
      },
      "source": [
        "### Import Libraries"
      ]
    },
    {
      "cell_type": "code",
      "execution_count": null,
      "metadata": {
        "id": "M8Vqi-pPk-HR"
      },
      "outputs": [],
      "source": [
        "# Import Libraries\n",
        "import pandas as pd\n",
        "import numpy as np\n",
        "import matplotlib.pyplot as plt\n",
        "import seaborn as sns"
      ]
    },
    {
      "cell_type": "markdown",
      "metadata": {
        "id": "3RnN4peoiCZX"
      },
      "source": [
        "### Dataset Loading"
      ]
    },
    {
      "cell_type": "code",
      "execution_count": null,
      "metadata": {
        "id": "4CkvbW_SlZ_R"
      },
      "outputs": [],
      "source": [
        "# Load Dataset\n",
        "credits_data =  pd.read_csv('credits.csv')\n",
        "titles_data =  pd.read_csv('titles.csv')\n",
        "\n"
      ]
    },
    {
      "cell_type": "markdown",
      "metadata": {
        "id": "x71ZqKXriCWQ"
      },
      "source": [
        "### Dataset First View"
      ]
    },
    {
      "cell_type": "code",
      "execution_count": null,
      "metadata": {
        "collapsed": true,
        "id": "LWNFOSvLl09H"
      },
      "outputs": [],
      "source": [
        "# first we will look into to  titles data\n",
        "titles_data.head()"
      ]
    },
    {
      "cell_type": "code",
      "execution_count": null,
      "metadata": {
        "id": "C3pJTjHWARcp"
      },
      "outputs": [],
      "source": [
        "# secound we will se the credits data set\n",
        "credits_data.head()\n"
      ]
    },
    {
      "cell_type": "markdown",
      "metadata": {
        "id": "7hBIi_osiCS2"
      },
      "source": [
        "### Dataset Rows & Columns count"
      ]
    },
    {
      "cell_type": "code",
      "execution_count": null,
      "metadata": {
        "id": "Kllu7SJgmLij"
      },
      "outputs": [],
      "source": [
        "# Dataset Rows & Columns count\n",
        "print(\"Credits row column count\" , credits_data.shape)\n",
        "print(\"Titles row column count\" , titles_data.shape)"
      ]
    },
    {
      "cell_type": "markdown",
      "metadata": {
        "id": "JlHwYmJAmNHm"
      },
      "source": [
        "### Dataset Information"
      ]
    },
    {
      "cell_type": "code",
      "execution_count": null,
      "metadata": {
        "collapsed": true,
        "id": "e9hRXRi6meOf"
      },
      "outputs": [],
      "source": [
        "# Dataset Info\n",
        "# first we will see titles data set\n",
        "titles_data.info()"
      ]
    },
    {
      "cell_type": "code",
      "execution_count": null,
      "metadata": {
        "collapsed": true,
        "id": "ecfAYcGbDDbm"
      },
      "outputs": [],
      "source": [
        "# secound we will see credits dataset\n",
        "credits_data.info()"
      ]
    },
    {
      "cell_type": "markdown",
      "metadata": {
        "id": "35m5QtbWiB9F"
      },
      "source": [
        "#### Duplicate Values"
      ]
    },
    {
      "cell_type": "code",
      "execution_count": null,
      "metadata": {
        "id": "1sLdpKYkmox0"
      },
      "outputs": [],
      "source": [
        "# Dataset Duplicate Value Count\n",
        "print(\"number of duplicated rows in titles : \",titles_data.duplicated().sum())\n",
        "print(\"number of duplicates rows in credits :\", credits_data.duplicated().sum())"
      ]
    },
    {
      "cell_type": "markdown",
      "metadata": {
        "id": "PoPl-ycgm1ru"
      },
      "source": [
        "#### Missing Values/Null Values"
      ]
    },
    {
      "cell_type": "code",
      "execution_count": null,
      "metadata": {
        "id": "GgHWkxvamxVg"
      },
      "outputs": [],
      "source": [
        "# copying the data\n",
        "titles_cleaned_data =  titles_data.copy()\n",
        "credits_cleaned_data =  credits_data.copy()\n"
      ]
    },
    {
      "cell_type": "markdown",
      "metadata": {
        "id": "cGoZ6Lhkmm18"
      },
      "source": [
        "*checking number of null values in the imdb_score , tmdb_score , tmdb_popularity of credits data*"
      ]
    },
    {
      "cell_type": "code",
      "execution_count": null,
      "metadata": {
        "id": "WXww_FTumm18"
      },
      "outputs": [],
      "source": [
        "\n",
        "# Missing Values/Null Values Count\n",
        "def null_missing_val(df):\n",
        "    features_null =dict()\n",
        "    try:\n",
        "        cols =  df.columns\n",
        "        for col in cols :\n",
        "            if df[col].isnull().sum() != 0:\n",
        "                features_null[col] =  df[col].isnull().sum()\n",
        "    except Exception as e :\n",
        "        print( 'Error: ',e)\n",
        "    return features_null"
      ]
    },
    {
      "cell_type": "code",
      "execution_count": null,
      "metadata": {
        "id": "1qO8NJuamm19"
      },
      "outputs": [],
      "source": [
        "titles_null =  null_missing_val(titles_cleaned_data)\n",
        "titles_null"
      ]
    },
    {
      "cell_type": "code",
      "execution_count": null,
      "metadata": {
        "id": "wiqZ2Z5Xmm19"
      },
      "outputs": [],
      "source": [
        "credits_null =  null_missing_val(credits_cleaned_data)\n",
        "credits_null"
      ]
    },
    {
      "cell_type": "code",
      "execution_count": null,
      "metadata": {
        "id": "3q5wnI3om9sJ"
      },
      "outputs": [],
      "source": [
        "# Visualizing the missing values\n",
        "sns.barplot(y = titles_null.values() , x =  titles_null.keys())\n",
        "plt.xticks(rotation = 90)\n",
        "plt.title('null Values in titles')\n",
        "plt.show()\n"
      ]
    },
    {
      "cell_type": "markdown",
      "metadata": {
        "id": "H0kj-8xxnORC"
      },
      "source": [
        "### What did you know about your dataset?"
      ]
    },
    {
      "cell_type": "markdown",
      "metadata": {
        "id": "gfoNAAC-nUe_"
      },
      "source": [
        "This dataset talk about the movies, shows and actors  worked on that content."
      ]
    },
    {
      "cell_type": "markdown",
      "metadata": {
        "id": "nA9Y7ga8ng1Z"
      },
      "source": [
        "## ***2. Understanding Your Variables***"
      ]
    },
    {
      "cell_type": "code",
      "execution_count": null,
      "metadata": {
        "id": "j7xfkqrt5Ag5"
      },
      "outputs": [],
      "source": [
        "# Dataset Columns\n",
        "print(\"list of columns in credits dataset\")\n",
        "credits_data.columns"
      ]
    },
    {
      "cell_type": "code",
      "execution_count": null,
      "metadata": {
        "id": "dr0AABs_a9U5"
      },
      "outputs": [],
      "source": [
        "print('list of columns in tites')\n",
        "titles_data.columns"
      ]
    },
    {
      "cell_type": "code",
      "execution_count": null,
      "metadata": {
        "collapsed": true,
        "id": "DnOaZdaE5Q5t"
      },
      "outputs": [],
      "source": [
        "# Dataset Describe\n",
        "#  some basic inshights about the titles data about numerical type\n",
        "\n",
        "titles_data.describe()"
      ]
    },
    {
      "cell_type": "code",
      "execution_count": null,
      "metadata": {
        "collapsed": true,
        "id": "yB0Y_UY-eRWJ"
      },
      "outputs": [],
      "source": [
        "#  some basic inshights about the titles data about categorical/object type\n",
        "\n",
        "titles_data.describe(include =  'object')"
      ]
    },
    {
      "cell_type": "code",
      "execution_count": null,
      "metadata": {
        "collapsed": true,
        "id": "LWVpKcWOe-lt"
      },
      "outputs": [],
      "source": [
        "#  some basic inshights about the credits data about numerical type\n",
        "\n",
        "credits_data.describe()"
      ]
    },
    {
      "cell_type": "code",
      "execution_count": null,
      "metadata": {
        "collapsed": true,
        "id": "BKDcTAU5fMcY"
      },
      "outputs": [],
      "source": [
        "#  some basic inshights about the credits data about categorical/object type\n",
        "\n",
        "credits_data.describe( include =  'object')"
      ]
    },
    {
      "cell_type": "markdown",
      "metadata": {
        "id": "PBTbrJXOngz2"
      },
      "source": [
        "### Variables Description"
      ]
    },
    {
      "cell_type": "markdown",
      "metadata": {
        "id": "aJV4KIxSnxay"
      },
      "source": [
        "*titles dataset*\n",
        "* id: The title ID on JustWatch.\n",
        "* title: The name of the title.\n",
        "* show_type: TV show or movie.\n",
        "* description: A brief description.\n",
        "* release_year: The release year.\n",
        "* age_certification: The age certification.\n",
        "* runtime: The length of the episode (SHOW) or movie.\n",
        "* genres: A list of genres.\n",
        "* production_countries: A list of countries that produced the title.\n",
        "* seasons: Number of seasons if it's a SHOW.\n",
        "* imdb_id: The title ID on IMDB.\n",
        "* imdb_score: Score on IMDB.\n",
        "* imdb_votes: Votes on IMDB.\n",
        "* tmdb_popularity: Popularity on TMDB.\n",
        "* tmdb_score: Score on TMDB.\n",
        "\n",
        "*Credits dataset*\n",
        "* person_ID: The person ID on JustWatch.\n",
        "* id: The title ID on JustWatch.\n",
        "* name: The actor or director's name.\n",
        "* character_name: The character name.\n",
        "* role: ACTOR or DIRECTOR."
      ]
    },
    {
      "cell_type": "markdown",
      "metadata": {
        "id": "u3PMJOP6ngxN"
      },
      "source": [
        "### Check Unique Values for each variable."
      ]
    },
    {
      "cell_type": "code",
      "execution_count": null,
      "metadata": {
        "id": "zms12Yq5n-jE"
      },
      "outputs": [],
      "source": [
        "# Check Unique Values for each variable.\n",
        "def unique_values_each_variable(df):\n",
        "    '''\n",
        "    parameter1 -  df : dataset\n",
        "    the function shows the number unique value for each varaiable/ column value\n",
        "    '''\n",
        "    try:\n",
        "        for col in df.columns :\n",
        "            print(f'unique values of {col}: {df[col].nunique()}')\n",
        "    except Exception as e:\n",
        "        print(\"Error: \", e)"
      ]
    },
    {
      "cell_type": "code",
      "execution_count": null,
      "metadata": {
        "id": "KiKuq4quDemx"
      },
      "outputs": [],
      "source": [
        "unique_values_each_variable(titles_cleaned_data)"
      ]
    },
    {
      "cell_type": "code",
      "execution_count": null,
      "metadata": {
        "id": "pviI5bhXDTZi"
      },
      "outputs": [],
      "source": [
        "unique_values_each_variable(credits_cleaned_data)"
      ]
    },
    {
      "cell_type": "markdown",
      "metadata": {
        "id": "dauF4eBmngu3"
      },
      "source": [
        "## 3. ***Data Wrangling***"
      ]
    },
    {
      "cell_type": "code",
      "execution_count": null,
      "metadata": {
        "id": "nqJAxtVchr-C"
      },
      "outputs": [],
      "source": [
        "# Cleaning the titles data\n",
        "# handaling null values of imdb_score\n",
        "\n",
        "\n",
        "titles_cleaned_data['imdb_score']=titles_cleaned_data['imdb_score'].fillna(titles_cleaned_data['imdb_score'].median())\n",
        "titles_cleaned_data['imdb_score'].isnull().sum()"
      ]
    },
    {
      "cell_type": "code",
      "execution_count": null,
      "metadata": {
        "id": "1Z9D7Hj5B1j3"
      },
      "outputs": [],
      "source": [
        "# handaling null values of tmdb_score\n",
        "titles_cleaned_data['tmdb_score']=titles_cleaned_data['tmdb_score'].fillna(titles_cleaned_data['tmdb_score'].median())\n",
        "titles_cleaned_data['tmdb_score'].isnull().sum()"
      ]
    },
    {
      "cell_type": "code",
      "execution_count": null,
      "metadata": {
        "id": "rvn_vViUB9lH"
      },
      "outputs": [],
      "source": [
        "# handaling null values of imdb_popularity\n",
        "titles_cleaned_data['tmdb_popularity']=titles_cleaned_data['tmdb_popularity'].fillna(titles_cleaned_data['tmdb_popularity'].median())\n",
        "titles_cleaned_data['tmdb_popularity'].isnull().sum()\n",
        "\n"
      ]
    },
    {
      "cell_type": "code",
      "execution_count": null,
      "metadata": {
        "id": "qrsuyaAnVvGY"
      },
      "outputs": [],
      "source": [
        "def handle_outlier(df, columns):\n",
        "    '''\n",
        "    parameter1 - df  : dataset\n",
        "    parameter2 - column : dataset\n",
        "    this functions take the the dataset and columns list and then\n",
        "    find the lower and upper bound and then filter out/ drop the row of  the values perticular col values does not\n",
        "      fall with in the range  '''\n",
        "    try :\n",
        "        print(\"number of rows before outlier removal\",df.shape)\n",
        "        for col in columns:\n",
        "            if col in df.columns:\n",
        "                Q1 = df[col].quantile(0.25)\n",
        "                Q3 = df[col].quantile(0.75)\n",
        "                IQR = Q3 - Q1\n",
        "                lower_bound = Q1 - 1.5 * IQR\n",
        "                upper_bound = Q3 + 1.5 * IQR\n",
        "                df = df.loc[(df[col] >= lower_bound) & (df[col] <= upper_bound)]\n",
        "                print(f\"Outliers removed from column '{col}'\")\n",
        "            else:\n",
        "                print(f\"Column '{col}' not found.\")\n",
        "        print(\"number of rows after outlier removal\",df.shape)\n",
        "    except Exception as e :\n",
        "        print(\"Error\" ,e )\n",
        "    return df\n"
      ]
    },
    {
      "cell_type": "code",
      "execution_count": null,
      "metadata": {
        "id": "hF8gNq0xJekJ"
      },
      "outputs": [],
      "source": [
        "# first normalizing the tmdb_popularity\n",
        "# created a  new column and stored\n",
        "titles_cleaned_data['tmdb_popularity_normalized'] = np.log(titles_cleaned_data['tmdb_popularity'])\n"
      ]
    },
    {
      "cell_type": "code",
      "execution_count": null,
      "metadata": {
        "collapsed": true,
        "id": "Qcy36f1Vhc_b"
      },
      "outputs": [],
      "source": [
        "# romove the outlier for the tmdb_popularity_normalized and clean the outlier.\n",
        "# in this imdb_score and tmdb_score is  not included as all the values are in the range of between 1-10 which  are valid range of value.\n",
        "col =  [ 'tmdb_popularity_normalized']\n",
        "titles_cleaned_data_no_outlier =  handle_outlier( titles_cleaned_data , col)\n"
      ]
    },
    {
      "cell_type": "code",
      "execution_count": null,
      "metadata": {
        "collapsed": true,
        "id": "wdKMO9YYGrNI"
      },
      "outputs": [],
      "source": [
        "\n",
        "titles_cleaned_data.info()"
      ]
    },
    {
      "cell_type": "code",
      "execution_count": null,
      "metadata": {
        "collapsed": true,
        "id": "YWOOD98aK1Fk"
      },
      "outputs": [],
      "source": [
        "# in the titles data set genre is in format '['romance', 'war', 'drama']' object\n",
        "# first from string converting to list\n",
        "# then from list it is being exploded to individual item in the list for each value in genre column.\n",
        "import ast\n",
        "titles_cleaned_data_no_outlier['genres'] = titles_cleaned_data_no_outlier['genres'].apply(ast.literal_eval)\n",
        "\n",
        "# Step 2: Explode the list into multiple rows\n",
        "\n",
        "\n",
        "titles_cleaned_data_no_outlier=  titles_cleaned_data_no_outlier.explode('genres').reset_index(drop = True)\n",
        "titles_cleaned_data_no_outlier\n",
        "\n"
      ]
    },
    {
      "cell_type": "code",
      "execution_count": null,
      "metadata": {
        "id": "n84JIyLuiPev"
      },
      "outputs": [],
      "source": [
        "\n",
        "# in the titles data set production_countries  is in format '['US']' object\n",
        "# first from string converting to list\n",
        "# then from list it is being exploded to individual item in the list for each value in genre column.\n",
        "\n",
        "titles_cleaned_data_no_outlier['production_countries'] =  titles_cleaned_data_no_outlier['production_countries'].apply(ast.literal_eval)\n",
        "titles_cleaned_data_no_outlier =  titles_cleaned_data_no_outlier.explode('production_countries').reset_index(drop =  True)\n"
      ]
    },
    {
      "cell_type": "code",
      "execution_count": null,
      "metadata": {
        "id": "sJ9PQpTymm2b"
      },
      "outputs": [],
      "source": [
        "# standardize the certification col\n",
        "titles_cleaned_data_no_outlier['age_certification'].apply(lambda x : x.upper().strip() if x== pd.notna(x) else x)"
      ]
    },
    {
      "cell_type": "code",
      "execution_count": null,
      "metadata": {
        "id": "X0xGyk_AVlgP"
      },
      "outputs": [],
      "source": [
        "# standardizing the role column in the credits dataset\n",
        "credits_cleaned_data['role'] =  credits_cleaned_data['role'].apply(lambda x : x.upper().strip() if x== pd.notna(x) else x)"
      ]
    },
    {
      "cell_type": "code",
      "execution_count": null,
      "metadata": {
        "id": "X69afgnLjKV5"
      },
      "outputs": [],
      "source": [
        "# storing back the final cleaned data set\n",
        "titles_df =  titles_cleaned_data_no_outlier\n",
        "credits_df = credits_cleaned_data"
      ]
    },
    {
      "cell_type": "markdown",
      "metadata": {
        "id": "bKJF3rekwFvQ"
      },
      "source": [
        "### Data Wrangling Code"
      ]
    },
    {
      "cell_type": "code",
      "execution_count": null,
      "metadata": {
        "collapsed": true,
        "id": "9dflTJ71MZuG"
      },
      "outputs": [],
      "source": [
        "# getting number of shows and movies\n",
        "\n",
        "number_shows_movies =  titles_cleaned_data_no_outlier.drop_duplicates(subset='id').value_counts( 'type').reset_index()\n",
        "number_shows_movies"
      ]
    },
    {
      "cell_type": "code",
      "execution_count": null,
      "metadata": {
        "collapsed": true,
        "id": "dYACu2XwNrUD"
      },
      "outputs": [],
      "source": [
        "# popularity of show vs movies\n",
        "\n",
        "popularity_show_movies =  titles_cleaned_data_no_outlier.groupby('type')['tmdb_popularity_normalized'].mean()\n",
        "popularity_show_movies"
      ]
    },
    {
      "cell_type": "code",
      "execution_count": null,
      "metadata": {
        "collapsed": true,
        "id": "TH0J_whpddYr"
      },
      "outputs": [],
      "source": [
        "# getting top 10 production countries on basis of number of content uploaded\n",
        "consistent_content_upload =  titles_df.drop_duplicates(subset='id').value_counts('production_countries').reset_index().sort_values(by = 'count' , ascending= False).head(10)\n",
        "consistent_content_upload"
      ]
    },
    {
      "cell_type": "code",
      "execution_count": null,
      "metadata": {
        "collapsed": true,
        "id": "zO-iyMn1mzKv"
      },
      "outputs": [],
      "source": [
        "# calculating the top popular production contries with content upload more than 75\n",
        "top_popular_countries_sorted = titles_df.drop_duplicates(subset=['id']).groupby('production_countries').agg(\n",
        "\n",
        "    tmdb_popularity_min = ('tmdb_popularity' , 'min'),\n",
        "    tmdb_popularity_max = ('tmdb_popularity' , 'max'),\n",
        "    tmdb_popularity_mean = ('tmdb_popularity' , 'mean'),\n",
        "    count=('id', 'count')\n",
        ").reset_index().sort_values(by  =  'tmdb_popularity_mean' , ascending = False)\n",
        "\n",
        "top_popular_countries_sorted[top_popular_countries_sorted['count'] > 75]\n"
      ]
    },
    {
      "cell_type": "code",
      "execution_count": null,
      "metadata": {
        "id": "QTgtuwPxXotu"
      },
      "outputs": [],
      "source": [
        "#  contries with contries  IMdb score greater than mean imdb_score and have average imdb_score more total average\n",
        "imdb_mean  =  titles_df.drop_duplicates(subset=['id'])\n",
        "imdb_mean = titles_df['imdb_score'].mean()\n",
        "top_Countries_by_imdb_score = titles_df.drop_duplicates(subset=['id']).groupby('production_countries').agg(\n",
        "    imdb_score_mean = ('imdb_score' , 'mean'),\n",
        "    count=('id', 'count')\n",
        ").reset_index().sort_values(by  =  'imdb_score_mean' , ascending = False)\n",
        "\n",
        "top_popular_countries_sorted[top_popular_countries_sorted['count'] > 75]\n",
        "top_Countries_by_imdb_score[(top_Countries_by_imdb_score['imdb_score_mean']>  imdb_mean) & (top_Countries_by_imdb_score['count']> 75) ]\n"
      ]
    },
    {
      "cell_type": "code",
      "execution_count": null,
      "metadata": {
        "id": "9J9bdXbPsOcj"
      },
      "outputs": [],
      "source": [
        "def get_most_popular_genres_by_country(df, country_code):\n",
        "    ''' Parameter1 - df : dataset\n",
        "        Parameter2 - country_code : 'US' , 'IN' , 'KE', 'HU'\n",
        "        this fuction take this two parameter data set and country code and then\n",
        "        return the sotred least from most popular genre produced to  least poplualr genre produced\n",
        "    '''\n",
        "    try:\n",
        "        # Validate input DataFrame\n",
        "        county_wise__most_popluar_ganre =  df.groupby(['genres' , 'production_countries'])['tmdb_popularity_normalized'].mean().reset_index()\n",
        "        return county_wise__most_popluar_ganre.loc[ county_wise__most_popluar_ganre['production_countries'] == country_code ].sort_values(by = 'tmdb_popularity_normalized' , ascending =  False)\n",
        "\n",
        "\n",
        "    except Exception as e:\n",
        "        print(f\" error: {e}\")\n",
        "        return None\n"
      ]
    },
    {
      "cell_type": "code",
      "execution_count": null,
      "metadata": {
        "collapsed": true,
        "id": "ya-svn7KUV37"
      },
      "outputs": [],
      "source": [
        "# getting the list of genre produced by the the US in a sorted manner in decending order for tmdb_popularity\n",
        "get_most_popular_genres_by_country(titles_df , 'US')"
      ]
    },
    {
      "cell_type": "code",
      "execution_count": null,
      "metadata": {
        "collapsed": true,
        "id": "c5jaqouAqcPQ"
      },
      "outputs": [],
      "source": [
        "# getting the list of genre produced by the the India in a sorted manner in decending order for tmdb_popularity\n",
        "\n",
        "get_most_popular_genres_by_country(titles_df , 'IN')"
      ]
    },
    {
      "cell_type": "code",
      "execution_count": null,
      "metadata": {
        "collapsed": true,
        "id": "0ccMzGcRs6Kx"
      },
      "outputs": [],
      "source": [
        "# creating a new column decade\n",
        "titles_df['decade'] =  (titles_df['release_year']//10) * 10\n",
        "trend_df = titles_df.drop_duplicates(subset='id').groupby(['decade', 'genres'])['tmdb_popularity'].mean().reset_index()\n",
        "trend_df"
      ]
    },
    {
      "cell_type": "code",
      "execution_count": null,
      "metadata": {
        "collapsed": true,
        "id": "EzgYK32c5H5R"
      },
      "outputs": [],
      "source": [
        "# how popularity of shows and movies are working out to over the decades\n",
        "trend_shows_movies_popularity =  titles_df.groupby(['type' , 'decade'])['tmdb_popularity'].mean().reset_index()\n",
        "trend_shows_movies_popularity"
      ]
    },
    {
      "cell_type": "code",
      "execution_count": null,
      "metadata": {
        "id": "yXVSQGsV5IdH"
      },
      "outputs": [],
      "source": [
        "\n",
        "# merge the titles and credits to get more inshights\n",
        "credits_titles_data  =  pd.merge(credits_df , titles_df , on = 'id' , how = 'inner')\n"
      ]
    },
    {
      "cell_type": "code",
      "execution_count": null,
      "metadata": {
        "id": "ZXIiHr5dHMPU"
      },
      "outputs": [],
      "source": [
        "# list of columns in merged dataset\n",
        "credits_titles_data.columns"
      ]
    },
    {
      "cell_type": "code",
      "execution_count": null,
      "metadata": {
        "collapsed": true,
        "id": "-QKYVVvYHaLf"
      },
      "outputs": [],
      "source": [
        "# get first 5 rows in of the credits_titles_data\n",
        "credits_titles_data.head()"
      ]
    },
    {
      "cell_type": "code",
      "execution_count": null,
      "metadata": {
        "id": "rvofFGcjHpoA"
      },
      "outputs": [],
      "source": [
        "# unique person id\n",
        "print(credits_titles_data['id'].nunique())\n",
        "print(credits_titles_data['person_id'].nunique())"
      ]
    },
    {
      "cell_type": "code",
      "execution_count": null,
      "metadata": {
        "id": "6Mn15360JnT5"
      },
      "outputs": [],
      "source": [
        "# top performing actors in each genre\n",
        "def get_most_popular_actor(df , genre = 'no_input'):\n",
        "  '''\n",
        "  parameter1 - df : dataset\n",
        "  parameter2 - genre : 'action' , 'comedy' ,'sci-fi' | leave as None for top actors overall.\n",
        "  it return the top 10 person most popular in the perticular genre\n",
        "  '''\n",
        "  try:\n",
        "    if (genre != 'no_input'):\n",
        "      df =  df.loc[(df['genres']==genre) &(df['role'] =='ACTOR')]\n",
        "      return df.groupby(['genres','person_id'])['tmdb_popularity'].max().reset_index().sort_values(by ='tmdb_popularity', ascending =  False).head(10)\n",
        "    else :\n",
        "      df =  df.loc[df['role'] =='ACTOR']\n",
        "      return df.groupby(['genres','person_id'])['tmdb_popularity'].max().reset_index().sort_values(by ='tmdb_popularity', ascending =  False).head(10)\n",
        "  except Exception as e :\n",
        "    print(\"Error\" , e )"
      ]
    },
    {
      "cell_type": "code",
      "execution_count": null,
      "metadata": {
        "collapsed": true,
        "id": "gPzK9gAOjcCJ"
      },
      "outputs": [],
      "source": [
        "top_10_actor_perticular_genre= get_most_popular_actor(credits_titles_data , 'action')\n",
        "top_10_actor_perticular_genre"
      ]
    },
    {
      "cell_type": "code",
      "execution_count": null,
      "metadata": {
        "id": "2-FA84lrR67L"
      },
      "outputs": [],
      "source": [
        "top_10_actor  =  get_most_popular_actor(credits_titles_data)\n",
        "top_10_actor"
      ]
    },
    {
      "cell_type": "code",
      "execution_count": null,
      "metadata": {
        "id": "e5hnkw4-dF85"
      },
      "outputs": [],
      "source": [
        "def get_most_popular_production(df , genre):\n",
        "  '''\n",
        "  parameter1 - df : dataset\n",
        "  parameter2 - genre : 'action' , 'comedy' ,'sci-fi'\n",
        "  it return the top 10 production_countries highest imdb_score in the perticular genre\n",
        "  '''\n",
        "  try:\n",
        "    df =  df.loc[(df['genres']==genre)]\n",
        "    return df.groupby('production_countries')['imdb_score'].mean().reset_index().sort_values(by ='imdb_score', ascending =  False).head(10)\n",
        "  except Exception as e :\n",
        "    print(\"Error\" , e )\n"
      ]
    },
    {
      "cell_type": "code",
      "execution_count": null,
      "metadata": {
        "collapsed": true,
        "id": "BQbkTJ0ndjuU"
      },
      "outputs": [],
      "source": [
        "get_most_popular_production(titles_df, 'action')"
      ]
    },
    {
      "cell_type": "code",
      "execution_count": null,
      "metadata": {
        "collapsed": true,
        "id": "eyZ5iibIp6mG"
      },
      "outputs": [],
      "source": [
        "# number of content  in each decade\n",
        "decade_count =  titles_df.drop_duplicates('id').value_counts('decade').reset_index()\n",
        "decade_count.rename({'count':'number_of_content_upload'},inplace =  True , axis =  1)\n",
        "decade_count"
      ]
    },
    {
      "cell_type": "code",
      "execution_count": null,
      "metadata": {
        "id": "nQ46Nqp-KRrR"
      },
      "outputs": [],
      "source": [
        "# function for perticular actor/director popularity over decade\n",
        "# i will give actor it will give poppularity across the decade\n",
        "\n",
        "credits_titles_data.columns"
      ]
    },
    {
      "cell_type": "code",
      "execution_count": null,
      "metadata": {
        "collapsed": true,
        "id": "ZdUiHcY7xsJx"
      },
      "outputs": [],
      "source": [
        "# Top 10% IMDb score movies\n",
        "top_movies = titles_df.drop_duplicates('id').sort_values(by='imdb_score', ascending=False)\n",
        "top_movies = top_movies[top_movies['imdb_score'] >= top_movies['imdb_score'].quantile(0.90)]\n",
        "\n",
        "top_movies\n"
      ]
    },
    {
      "cell_type": "markdown",
      "metadata": {
        "id": "YOZCWE08X38b"
      },
      "source": []
    },
    {
      "cell_type": "code",
      "execution_count": null,
      "metadata": {
        "id": "9lqPCPixQEWs"
      },
      "outputs": [],
      "source": [
        "# unique age certification\n",
        "list_of_certi = titles_df['age_certification'].dropna().unique().tolist()\n",
        "print(list_of_certi)"
      ]
    },
    {
      "cell_type": "code",
      "execution_count": null,
      "metadata": {
        "id": "OuWe-pvMim2k"
      },
      "outputs": [],
      "source": [
        "#unique list of genre\n",
        "list_of_genre =  titles_df['genres'].dropna().unique().tolist()\n",
        "print(list_of_genre)"
      ]
    },
    {
      "cell_type": "code",
      "execution_count": null,
      "metadata": {
        "id": "bSirGiyoirIO"
      },
      "outputs": [],
      "source": [
        "#unique list of production\n",
        "list_of_production =  titles_df['production_countries'].dropna().unique().tolist()\n",
        "print(list_of_production)"
      ]
    },
    {
      "cell_type": "code",
      "execution_count": null,
      "metadata": {
        "id": "0VX_X34Qmm2k"
      },
      "outputs": [],
      "source": [
        "titles_df[['title','type','runtime']].head(20)"
      ]
    },
    {
      "cell_type": "code",
      "execution_count": null,
      "metadata": {
        "collapsed": true,
        "id": "JIJSL5PyoE9p"
      },
      "outputs": [],
      "source": [
        "\n",
        "# divide the runtime in to  4 category  short , medium , long , epic and  and\n",
        "# trying to analyse the trend in term of popularity imdb score and tmdb score for movies\n",
        "\n",
        "titles_df['duration_category'] = pd.cut(titles_df['runtime'], bins=[0, 30, 90, 180, 500], labels=[\"Short\", \"Medium\", \"Long\", \"Epic\"])\n",
        "duration_trend = titles_df[titles_df['type']== 'MOVIE'].groupby('duration_category').agg(\n",
        "    tmdb_popularity_mean = ('tmdb_popularity' , 'mean'),\n",
        "    imdb_score_mean =('imdb_score','mean'),\n",
        "    tmdb_score_mean =('tmdb_score','mean')\n",
        ").reset_index()\n",
        "duration_trend\n"
      ]
    },
    {
      "cell_type": "code",
      "execution_count": null,
      "metadata": {
        "collapsed": true,
        "id": "UBsRzdXDoYSs"
      },
      "outputs": [],
      "source": [
        "#effect on popularity of certification\n",
        "titles_df.groupby('age_certification')['tmdb_popularity'].mean().sort_values(ascending=False)\n"
      ]
    },
    {
      "cell_type": "code",
      "execution_count": null,
      "metadata": {
        "id": "PnOmqqJfolCB"
      },
      "outputs": [],
      "source": [
        "def get_top_directors(df):\n",
        "    '''\n",
        "    parameter1 df : dataset\n",
        "    the function will return the top directors based on the popularity if movies produced\n",
        "    '''\n",
        "    return df[df['role'] == 'DIRECTOR'].groupby('person_id')['tmdb_popularity'].mean().reset_index().sort_values(by='tmdb_popularity', ascending=False).head(10)\n"
      ]
    },
    {
      "cell_type": "code",
      "execution_count": null,
      "metadata": {
        "collapsed": true,
        "id": "k43km7dwomzo"
      },
      "outputs": [],
      "source": [
        "get_top_directors(credits_titles_data)"
      ]
    },
    {
      "cell_type": "code",
      "execution_count": null,
      "metadata": {
        "id": "IHBFe-7-6nm_"
      },
      "outputs": [],
      "source": [
        "\n",
        "def consistent_performer(df  , role ):\n",
        "  '''\n",
        "  parameter1 df : dataset\n",
        "  parameter2 role : 'ACTOR' , 'DIRECTOR'\n",
        "\n",
        "  '''\n",
        "  try:\n",
        "    popularity = df.loc[df['role'] ==role,['id','person_id','name' , 'tmdb_popularity']  ].groupby('person_id').agg(\n",
        "    mean_popularity =  ('tmdb_popularity' , 'mean') ,\n",
        "    count = ('id' , 'count')\n",
        "    ).query('count>5').sort_values(by =  'mean_popularity' , ascending  =  False).reset_index()\n",
        "    return popularity\n",
        "  except Exception as e :\n",
        "    print('Error', e )"
      ]
    },
    {
      "cell_type": "code",
      "execution_count": null,
      "metadata": {
        "collapsed": true,
        "id": "W8g5fVWE8pO6"
      },
      "outputs": [],
      "source": [
        "# getting consitence actors as per performance\n",
        "consitent_actors = consistent_performer(credits_titles_data , 'ACTOR')\n",
        "consitent_actors"
      ]
    },
    {
      "cell_type": "code",
      "execution_count": null,
      "metadata": {
        "collapsed": true,
        "id": "ChL-ywVq-bQg"
      },
      "outputs": [],
      "source": [
        "# getting consitent director as per performance\n",
        "consitent_director = consistent_performer(credits_titles_data , 'DIRECTOR')\n",
        "consitent_director"
      ]
    },
    {
      "cell_type": "code",
      "execution_count": null,
      "metadata": {
        "id": "0HGKNonY1s-o"
      },
      "outputs": [],
      "source": [
        "# getting the director actor pairs which are doing well in the consitently.\n",
        "def get_top_director_actor_pairs_by_imdb(df , min_work = 2 ):\n",
        "  \"\"\"\n",
        "  parameter 1 df-  dataframe.\n",
        "  parameter2  min_work  - int ex 1,2,3.\n",
        "  Finds the top Director- Actor pairs that produce the hiest average IMDB scores.\n",
        "  \"\"\"\n",
        "  try :\n",
        "    directors = df.loc[df['role'] == 'DIRECTOR' , ['id', 'person_id', 'name', 'imdb_score']].drop_duplicates(subset = 'id')\n",
        "    directors =  directors.rename(columns={'person_id': 'director_id', 'name': 'director_name'})\n",
        "\n",
        "    actors =  df.loc[df['role'] == 'ACTOR' , ['id', 'person_id', 'name', 'imdb_score']].drop_duplicates(subset = 'id')\n",
        "    actors = actors.rename(columns={'person_id': 'actor_id', 'name': 'actor_name'})\n",
        "    pairs = pd.merge(directors, actors, on=['id', 'imdb_score'])\n",
        "\n",
        "    pair_stats = (pairs.groupby(['director_id', 'director_name', 'actor_id', 'actor_name'])\n",
        "            .agg(\n",
        "                avg_imdb_score=('imdb_score', 'mean'),\n",
        "                work_count=('id', 'count')\n",
        "            ).reset_index())\n",
        "\n",
        "        # Filter by minimum work done together\n",
        "    pair_stats = pair_stats[pair_stats['work_count'] >= min_work]\n",
        "\n",
        "        # Sort by IMDb score\n",
        "    pair_stats = pair_stats.sort_values(by='avg_imdb_score', ascending=False)\n",
        "\n",
        "    return pair_stats\n",
        "\n",
        "  except Exception as e :\n",
        "    print('Error', e)"
      ]
    },
    {
      "cell_type": "code",
      "execution_count": null,
      "metadata": {
        "id": "ZG62mPCl_MEI"
      },
      "outputs": [],
      "source": [
        "top_director_actor_pairs = get_top_director_actor_pairs_by_imdb(credits_titles_data, min_work=2)\n",
        "top_director_actor_pairs[top_director_actor_pairs['avg_imdb_score'] > 7.5]"
      ]
    },
    {
      "cell_type": "code",
      "execution_count": null,
      "metadata": {
        "collapsed": true,
        "id": "kBH8xEzD5F-n"
      },
      "outputs": [],
      "source": [
        "# identify the shows/movies which are not popular but have high imdb_score -> comparing the number of votes by popularity\n",
        "imdb_score_threshold =  titles_df['imdb_score'].quantile(0.85)\n",
        "popularity_threshold =  titles_df['tmdb_popularity_normalized'].quantile(0.25)\n",
        "\n",
        "high_imdb_score_low_popularity = titles_df[(titles_df['imdb_score']>= imdb_score_threshold)& (titles_df['tmdb_popularity_normalized'] <= popularity_threshold)].drop_duplicates('id')\n",
        "\n",
        "high_imdb_score_low_popularity"
      ]
    },
    {
      "cell_type": "code",
      "execution_count": null,
      "metadata": {
        "collapsed": true,
        "id": "vLTnYM4cGZBP"
      },
      "outputs": [],
      "source": [
        "# identify the shows/movies which are popular but have low imdb_score -> comparing the number of votes by popularity\n",
        "imdb_score_threshold =  titles_df['imdb_score'].quantile(0.25)\n",
        "popularity_threshold =  titles_df['tmdb_popularity_normalized'].quantile(0.80)\n",
        "\n",
        "low_imdb_score_high_popularity = titles_df[(titles_df['imdb_score']<= imdb_score_threshold)& (titles_df['tmdb_popularity_normalized'] >= popularity_threshold)].drop_duplicates('id')\n",
        "\n",
        "low_imdb_score_high_popularity"
      ]
    },
    {
      "cell_type": "markdown",
      "metadata": {
        "id": "MSa1f5Uengrz"
      },
      "source": [
        "### What all manipulations have you done and insights you found?"
      ]
    },
    {
      "cell_type": "markdown",
      "metadata": {
        "id": "LbyXE7I1olp8"
      },
      "source": [
        "* Data Manipulations\n",
        "    * Missing value Handlings -  replaced imdb_score , tmdb_score , tmdb_popularity replaced with median.\n",
        "\n",
        "    * Outlier treatment\n",
        "        * Normalized the tmdb_popularity using log transformation and created tmdb_popularity_normalized.\n",
        "        * removed outlier from tmdb_popularity_normalized using IQR.\n",
        "    * Data Transformation And standardization  \n",
        "        * converted genres and production_contries from stringified lists to  actual list then exploded into  individual rows.\n",
        "        * Standardization age_certification  values by  converting to  upper case and stripping spaces.\n",
        "        * created deacede column from realase year.\n",
        "        * categorize runtime into  short, medium , long epic.\n",
        "    * data Merging\n",
        "        * Merged titles and credits datasets on id.\n",
        "* Insights Derived\n",
        "    * number of movies are almost 8 times the number of shows.\n",
        "    * popularity of shows are more compare to  movies.\n",
        "    * top 5 contries uploading constantly  are US, IN, GB, CA, JP\n",
        "    * highest average popularity KE , HU, TN .\n",
        "    * some of the production countries with IMDB score greater than 8 are CU, PF, CR, SY.\n",
        "    * in action category  most popular production is BA, SI, FJ, PF, GR.\n",
        "    * in scifi category most popular production is MY, CL, CN, JP, RS.\n",
        "    * 2010 and 2020 have highiest and there is growth in content uploaded per decade.\n",
        "    * from india , us there is high imdb_score movies.\n",
        "    * TV-MA , TV_Y7 has highest tmdb_popularity.\n",
        "\n",
        "\n",
        "![alt text](image.png)\n",
        "![alt text](image-1.png)\n",
        "\n",
        "most popular productions scifi genre\n"
      ]
    },
    {
      "cell_type": "markdown",
      "metadata": {
        "id": "GF8Ens_Soomf"
      },
      "source": [
        "## ***4. Data Vizualization, Storytelling & Experimenting with charts : Understand the relationships between variables***"
      ]
    },
    {
      "cell_type": "markdown",
      "metadata": {
        "id": "0wOQAZs5pc--"
      },
      "source": [
        "#### Chart -1  histogram plot for imdb_score , tmdb_score , popularity"
      ]
    },
    {
      "cell_type": "code",
      "execution_count": null,
      "metadata": {
        "id": "7v_ESjsspbW7"
      },
      "outputs": [],
      "source": [
        "# Chart - 1 visualization code\n",
        "fig , axs =  plt.subplots(1,3 , figsize =  (18,6))\n",
        "features =  ['imdb_score' , 'tmdb_score' , 'tmdb_popularity']\n",
        "heading =  ['IMDB Score Distribution' , 'TMDB Score Distribution' , 'TMDB Popularity Distribution']\n",
        "for i in range(len(features)):\n",
        "  sns.histplot(x= features[i] , data  =  titles_data , kde =  True , ax=  axs[i])\n",
        "  plt.xlabel(features[i])\n",
        "  axs[i].set_title(heading[i])\n",
        "plt.tight_layout()\n",
        "plt.show()"
      ]
    },
    {
      "cell_type": "markdown",
      "metadata": {
        "id": "K5QZ13OEpz2H"
      },
      "source": [
        "##### 1. Why did you pick the specific chart?"
      ]
    },
    {
      "cell_type": "markdown",
      "metadata": {
        "id": "XESiWehPqBRc"
      },
      "source": [
        "To understand the distribution of the variables and skewness in thier distribution."
      ]
    },
    {
      "cell_type": "markdown",
      "metadata": {
        "id": "lQ7QKXXCp7Bj"
      },
      "source": [
        "##### 2. What is/are the insight(s) found from the chart?"
      ]
    },
    {
      "cell_type": "markdown",
      "metadata": {
        "id": "C_j1G7yiqdRP"
      },
      "source": [
        "imdb_score andn tmdb_score is left skewed and tmdb_popularity is highly right skewed."
      ]
    },
    {
      "cell_type": "markdown",
      "metadata": {
        "id": "448CDAPjqfQr"
      },
      "source": [
        "##### 3. Will the gained insights help creating a positive business impact?\n",
        "Are there any insights that lead to negative growth? Justify with specific reason."
      ]
    },
    {
      "cell_type": "markdown",
      "metadata": {
        "id": "3cspy4FjqxJW"
      },
      "source": [
        "this will help to clean the data and fill the null value by helping use to choose between median and mode."
      ]
    },
    {
      "cell_type": "markdown",
      "metadata": {
        "id": "KSlN3yHqYklG"
      },
      "source": [
        "#### Chart - 2 box plot for imdb_score , tmdb_score , tmdb_popularity"
      ]
    },
    {
      "cell_type": "code",
      "execution_count": null,
      "metadata": {
        "id": "R4YgtaqtYklH"
      },
      "outputs": [],
      "source": [
        "# Chart - 2 visualization code\n",
        "\n",
        "fig , axs =  plt.subplots(5,1 , figsize =  (15,14))\n",
        "features =  ['imdb_score' , 'tmdb_score' , 'tmdb_popularity' ,'tmdb_popularity_normalized']\n",
        "heading =  ['IMDB Score Box Plot' , 'TMDB Score Box Plot' , 'TMDB Popularity','TMDB Popularity Normalized Box Plot']\n",
        "\n",
        "for i in range(len(features)):\n",
        "  sns.boxplot(x  =  features[i] , data  =  titles_cleaned_data , ax= axs[i])\n",
        "  plt.xlabel(features[i])\n",
        "  axs[i].set_title(heading[i])\n",
        "  plt.tight_layout(pad=3.0)\n",
        "sns.boxplot(x  = 'tmdb_popularity_normalized'  , data  =  titles_df , ax= axs[4])\n",
        "plt.xlabel('tmdb_popularity_normalized ')\n",
        "axs[4].set_title('tmdb_popularity_normalized after clean Box plot')\n",
        "plt.show()"
      ]
    },
    {
      "cell_type": "markdown",
      "metadata": {
        "id": "t6dVpIINYklI"
      },
      "source": [
        "##### 1. Why did you pick the specific chart?"
      ]
    },
    {
      "cell_type": "markdown",
      "metadata": {
        "id": "5aaW0BYyYklI"
      },
      "source": [
        "Box plots are the most efficient way to  detct oulier understand the value distribution."
      ]
    },
    {
      "cell_type": "markdown",
      "metadata": {
        "id": "ijmpgYnKYklI"
      },
      "source": [
        "##### 2. What is/are the insight(s) found from the chart?"
      ]
    },
    {
      "cell_type": "markdown",
      "metadata": {
        "id": "PSx9atu2YklI"
      },
      "source": [
        "Yes so for imdb_score and tmdb score tho there extream value exists but we cant label them as ouulier as they both are  in the valid range of 1 to  10 ."
      ]
    },
    {
      "cell_type": "markdown",
      "metadata": {
        "id": "-JiQyfWJYklI"
      },
      "source": [
        "##### 3. Will the gained insights help creating a positive business impact?\n",
        "Are there any insights that lead to negative growth? Justify with specific reason."
      ]
    },
    {
      "cell_type": "markdown",
      "metadata": {
        "id": "BcBbebzrYklV"
      },
      "source": [
        "no there no such indication of the neagtive growth it just tell imdb_score and tmdb_score are  in the correct range and we need to  handle the popularity  by bring it to  certain range by normalizing and remove them."
      ]
    },
    {
      "cell_type": "markdown",
      "metadata": {
        "id": "OH-pJp9IphqM"
      },
      "source": [
        "#### Chart - 3 pie_chart movies and shows"
      ]
    },
    {
      "cell_type": "code",
      "execution_count": null,
      "metadata": {
        "id": "kuRf4wtuphqN"
      },
      "outputs": [],
      "source": [
        "# Chart - 3 visualization code\n",
        "\n",
        "plt.pie(x= number_shows_movies['count'] , labels = number_shows_movies['type'] , autopct = '%1.1f%%' )\n",
        "plt.show()"
      ]
    },
    {
      "cell_type": "markdown",
      "metadata": {
        "id": "bbFf2-_FphqN"
      },
      "source": [
        "##### 1. Why did you pick the specific chart?"
      ]
    },
    {
      "cell_type": "markdown",
      "metadata": {
        "id": "loh7H2nzphqN"
      },
      "source": [
        "* pie chart effectivly shows the frequency of the each classes."
      ]
    },
    {
      "cell_type": "markdown",
      "metadata": {
        "id": "_ouA3fa0phqN"
      },
      "source": [
        "##### 2. What is/are the insight(s) found from the chart?"
      ]
    },
    {
      "cell_type": "markdown",
      "metadata": {
        "id": "VECbqPI7phqN"
      },
      "source": [
        "production of shows are comperatively too less than movies."
      ]
    },
    {
      "cell_type": "markdown",
      "metadata": {
        "id": "Seke61FWphqN"
      },
      "source": [
        "##### 3. Will the gained insights help creating a positive business impact?\n",
        "Are there any insights that lead to negative growth? Justify with specific reason."
      ]
    },
    {
      "cell_type": "markdown",
      "metadata": {
        "id": "DW4_bGpfphqN"
      },
      "source": [
        "yes, shows get a high popularty gain and shows are highly enagaging which effect the enagagement rate in the platform but due to less number of shows production platform deprived of high engagement.\n",
        "\n"
      ]
    },
    {
      "cell_type": "markdown",
      "metadata": {
        "id": "PIIx-8_IphqN"
      },
      "source": [
        "#### Chart - 4 histogram genre count"
      ]
    },
    {
      "cell_type": "code",
      "execution_count": null,
      "metadata": {
        "id": "lqAIGUfyphqO"
      },
      "outputs": [],
      "source": [
        "# Chart - 4 visualization code\n",
        "\n",
        "# genre vs popularity\n",
        "sns.histplot(x  =  'genres' , data  =  titles_df)\n",
        "plt.xticks(rotation =90)\n",
        "plt.show()"
      ]
    },
    {
      "cell_type": "markdown",
      "metadata": {
        "id": "t27r6nlMphqO"
      },
      "source": [
        "##### 1. Why did you pick the specific chart?"
      ]
    },
    {
      "cell_type": "markdown",
      "metadata": {
        "id": "iv6ro40sphqO"
      },
      "source": [
        "hist plot are good to visually see the count of unique values within a single variable"
      ]
    },
    {
      "cell_type": "markdown",
      "metadata": {
        "id": "r2jJGEOYphqO"
      },
      "source": [
        "##### 2. What is/are the insight(s) found from the chart?"
      ]
    },
    {
      "cell_type": "markdown",
      "metadata": {
        "id": "Po6ZPi4hphqO"
      },
      "source": [
        "there is high imbalance in production of genres, which shows the domanance of few genre in the paltform."
      ]
    },
    {
      "cell_type": "markdown",
      "metadata": {
        "id": "b0JNsNcRphqO"
      },
      "source": [
        "##### 3. Will the gained insights help creating a positive business impact?\n",
        "Are there any insights that lead to negative growth? Justify with specific reason."
      ]
    },
    {
      "cell_type": "markdown",
      "metadata": {
        "id": "xvSq8iUTphqO"
      },
      "source": [
        "yes ,\n",
        "* genre like scifi, fantasy have high popularaity but there production is less which is against the liking of audience .\n",
        "* the platform have less choice in term of quantity of diffrent type of content they want to watch it is saturated with drama type content."
      ]
    },
    {
      "cell_type": "markdown",
      "metadata": {
        "id": "Ag9LCva-p1cl"
      },
      "source": [
        "#### Chart - 5 pie chart number of high imdb score movies(above 90 percentile) by contries"
      ]
    },
    {
      "cell_type": "code",
      "execution_count": null,
      "metadata": {
        "id": "EUfxeq9-p1cl"
      },
      "outputs": [],
      "source": [
        "# Chart - 5 visualization code\n",
        "country_counts = top_movies['production_countries'].value_counts().reset_index()\n",
        "country_counts.columns = ['production_countries', 'count']\n",
        "\n",
        " # Group top 6 and rest as \"Others\"\n",
        "top_6 = country_counts[:6]\n",
        "others = country_counts[6:]\n",
        "others_sum = others['count'].sum()\n",
        "\n",
        "# Append \"Others\" to the top 6\n",
        "final_counts = top_6.copy()\n",
        "final_counts.loc[len(top_6)] = ['Others', others_sum]\n",
        "\n",
        "\n",
        "plt.figure(figsize=(8, 8))\n",
        "plt.pie(final_counts['count'], labels=final_counts['production_countries'], autopct='%1.1f%%', startangle=140)\n",
        "plt.title('Top 10% IMDb Movies by Production Country (Grouped)')\n",
        "plt.axis('equal')\n",
        "plt.show()"
      ]
    },
    {
      "cell_type": "markdown",
      "metadata": {
        "id": "E6MkPsBcp1cl"
      },
      "source": [
        "##### 1. Why did you pick the specific chart?"
      ]
    },
    {
      "cell_type": "markdown",
      "metadata": {
        "id": "V22bRsFWp1cl"
      },
      "source": [
        "pie chart effectively shows the percentage of each class contribution in the total percentage."
      ]
    },
    {
      "cell_type": "markdown",
      "metadata": {
        "id": "2cELzS2fp1cl"
      },
      "source": [
        "##### 2. What is/are the insight(s) found from the chart?"
      ]
    },
    {
      "cell_type": "markdown",
      "metadata": {
        "id": "ozQPc2_Ip1cl"
      },
      "source": [
        "IN , US, GB, CA, CN, GB are aomong top contributors in top 10 percent of highest IMDB score movies, they  are at the top of the race race of producing good content."
      ]
    },
    {
      "cell_type": "markdown",
      "metadata": {
        "id": "3MPXvC8up1cl"
      },
      "source": [
        "##### 3. Will the gained insights help creating a positive business impact?\n",
        "Are there any insights that lead to negative growth? Justify with specific reason."
      ]
    },
    {
      "cell_type": "markdown",
      "metadata": {
        "id": "bRhVu1vXsSdb"
      },
      "source": [
        "no there is no such negative growth indications in the chart it just shows which top production contries which provide the Imdb score movies which is above 90% of all imbd score."
      ]
    },
    {
      "cell_type": "markdown",
      "metadata": {
        "id": "bamQiAODYuh1"
      },
      "source": [
        "#### Chart - 6 genre vs tmdb_popularity barplot"
      ]
    },
    {
      "cell_type": "code",
      "execution_count": null,
      "metadata": {
        "id": "TIJwrbroYuh3"
      },
      "outputs": [],
      "source": [
        "# Chart - 6 visualization code\n",
        "sns.barplot(x  =  'genres' ,  y =  'tmdb_popularity' , data  =  titles_df)\n",
        "plt.xticks(rotation =90)\n",
        "plt.show()"
      ]
    },
    {
      "cell_type": "markdown",
      "metadata": {
        "id": "QHF8YVU7Yuh3"
      },
      "source": [
        "##### 1. Why did you pick the specific chart?"
      ]
    },
    {
      "cell_type": "markdown",
      "metadata": {
        "id": "dcxuIMRPYuh3"
      },
      "source": [
        "bar chart best for categorical values and bivariate analysis and represnt the data very clearly with clear meassage."
      ]
    },
    {
      "cell_type": "markdown",
      "metadata": {
        "id": "GwzvFGzlYuh3"
      },
      "source": [
        "##### 2. What is/are the insight(s) found from the chart?"
      ]
    },
    {
      "cell_type": "markdown",
      "metadata": {
        "id": "uyqkiB8YYuh3"
      },
      "source": [
        "* animation, sci-fi, fantacy, and european are highly popular genres and liked by audiences much higher on average compare to  other genres.\n",
        "\n",
        "* documantation and wester and least popular genres ."
      ]
    },
    {
      "cell_type": "markdown",
      "metadata": {
        "id": "qYpmQ266Yuh3"
      },
      "source": [
        "##### 3. Will the gained insights help creating a positive business impact?\n",
        "Are there any insights that lead to negative growth? Justify with specific reason."
      ]
    },
    {
      "cell_type": "markdown",
      "metadata": {
        "id": "_WtzZ_hCYuh4"
      },
      "source": [
        "yes, western, music and documentation genre have very less popularity score,  which means this content reduce the engagement rate in the palatform due to disliking of such content hence investing more on this category will have less return on per investing."
      ]
    },
    {
      "cell_type": "markdown",
      "metadata": {
        "id": "YJ55k-q6phqO"
      },
      "source": [
        "#### Chart - 7 bar plot type of content( movie , show) vs tmdb_popularity"
      ]
    },
    {
      "cell_type": "code",
      "execution_count": null,
      "metadata": {
        "id": "B2aS4O1ophqO"
      },
      "outputs": [],
      "source": [
        "# Chart - 7 visualization col\n",
        "# shows and movies popularity\n",
        "sns.barplot( x = 'type' , y= 'tmdb_popularity_normalized' , data  =  titles_df.drop_duplicates(subset='id').groupby('type')['tmdb_popularity_normalized'].mean().reset_index())"
      ]
    },
    {
      "cell_type": "code",
      "execution_count": null,
      "metadata": {
        "id": "ThbEpguJQ3aU"
      },
      "outputs": [],
      "source": [
        "titles_df.drop_duplicates(subset='id').groupby('type')['tmdb_popularity_normalized'].mean().reset_index()"
      ]
    },
    {
      "cell_type": "markdown",
      "metadata": {
        "id": "gCFgpxoyphqP"
      },
      "source": [
        "##### 1. Why did you pick the specific chart?"
      ]
    },
    {
      "cell_type": "markdown",
      "metadata": {
        "id": "TVxDimi2phqP"
      },
      "source": [
        "Bar chart are best to plot graph between continous vs categorical type analysis."
      ]
    },
    {
      "cell_type": "markdown",
      "metadata": {
        "id": "OVtJsKN_phqQ"
      },
      "source": [
        "##### 2. What is/are the insight(s) found from the chart?"
      ]
    },
    {
      "cell_type": "markdown",
      "metadata": {
        "id": "ngGi97qjphqQ"
      },
      "source": [
        "movies on an average has less popularity compare to the shows."
      ]
    },
    {
      "cell_type": "markdown",
      "metadata": {
        "id": "lssrdh5qphqQ"
      },
      "source": [
        "##### 3. Will the gained insights help creating a positive business impact?\n",
        "Are there any insights that lead to negative growth? Justify with specific reason."
      ]
    },
    {
      "cell_type": "markdown",
      "metadata": {
        "id": "tBpY5ekJphqQ"
      },
      "source": [
        "yes, the number of shows produced is very less, but shows have high popularity among the audience which is against the buisness growth.  \n"
      ]
    },
    {
      "cell_type": "markdown",
      "metadata": {
        "id": "x-EpHcCOp1ci"
      },
      "source": [
        "#### Chart - 8 barplot genre vs IMDB score"
      ]
    },
    {
      "cell_type": "code",
      "execution_count": null,
      "metadata": {
        "id": "mAQTIvtqp1cj"
      },
      "outputs": [],
      "source": [
        "# Chart - 8 visualization code\n",
        "sns.barplot(x = 'genres', y =  'imdb_score'  , data  = titles_df  )\n",
        "plt.xticks(rotation=90)\n",
        "plt.title('Genre Imdb Score')\n",
        "plt.xlabel('Genre')\n",
        "plt.ylabel('IMDB score')\n",
        "plt.show()"
      ]
    },
    {
      "cell_type": "markdown",
      "metadata": {
        "id": "X_VqEhTip1ck"
      },
      "source": [
        "##### 1. Why did you pick the specific chart?"
      ]
    },
    {
      "cell_type": "markdown",
      "metadata": {
        "id": "-vsMzt_np1ck"
      },
      "source": [
        "bar plots are good to represent numerical vs categorical values, the visual ploted repesent the mean imdb score of each genre which repesent the liking of each genre."
      ]
    },
    {
      "cell_type": "markdown",
      "metadata": {
        "id": "8zGJKyg5p1ck"
      },
      "source": [
        "##### 2. What is/are the insight(s) found from the chart?"
      ]
    },
    {
      "cell_type": "markdown",
      "metadata": {
        "id": "ZYdMsrqVp1ck"
      },
      "source": [
        "there is no significant variations in the imdb score with respect to  genre."
      ]
    },
    {
      "cell_type": "markdown",
      "metadata": {
        "id": "PVzmfK_Ep1ck"
      },
      "source": [
        "##### 3. Will the gained insights help creating a positive business impact?\n",
        "Are there any insights that lead to negative growth? Justify with specific reason."
      ]
    },
    {
      "cell_type": "markdown",
      "metadata": {
        "id": "druuKYZpp1ck"
      },
      "source": [
        "* there can be increased in the good horror content.\n",
        "* documentation, genre has high imdb score it means the content is liked by audiences but earlier we show number of content produced in documentation genre is very  less."
      ]
    },
    {
      "cell_type": "markdown",
      "metadata": {
        "id": "n3dbpmDWp1ck"
      },
      "source": [
        "#### Chart - 9 bar plot duration vs (tmdb_popularity , imdb_score, tmdb_score)"
      ]
    },
    {
      "cell_type": "code",
      "execution_count": null,
      "metadata": {
        "id": "bwevp1tKp1ck"
      },
      "outputs": [],
      "source": [
        "# Chart - 9 visualization code\n",
        "melted = duration_trend.melt(id_vars=\"duration_category\",\n",
        "                             value_vars=[\"tmdb_popularity_mean\", \"imdb_score_mean\", \"tmdb_score_mean\"],\n",
        "                             var_name=\"Metric\",\n",
        "                             value_name=\"Value\")\n",
        "\n",
        "# Replace column names for better display\n",
        "melted['Metric'] = melted['Metric'].replace({\n",
        "    'tmdb_popularity_mean': 'TMDb Popularity',\n",
        "    'imdb_score_mean': 'IMDb Score',\n",
        "    'tmdb_score_mean': 'TMDb Score'\n",
        "})\n",
        "\n",
        "# Plot\n",
        "plt.figure(figsize=(10, 6))\n",
        "sns.barplot(data=melted, x='duration_category', y='Value', hue='Metric')\n",
        "\n",
        "# Labels and title\n",
        "plt.title('Average Scores & Popularity by Duration Category')\n",
        "plt.xlabel('Duration Category')\n",
        "plt.ylabel('Average Value')\n",
        "plt.legend(title='Metric')\n",
        "plt.tight_layout()\n",
        "plt.show()\n"
      ]
    },
    {
      "cell_type": "markdown",
      "metadata": {
        "id": "ylSl6qgtp1ck"
      },
      "source": [
        "##### 1. Why did you pick the specific chart?"
      ]
    },
    {
      "cell_type": "markdown",
      "metadata": {
        "id": "m2xqNkiQp1ck"
      },
      "source": [
        "bar plot are excellent in representing categorical vs continous type variable."
      ]
    },
    {
      "cell_type": "markdown",
      "metadata": {
        "id": "ZWILFDl5p1ck"
      },
      "source": [
        "##### 2. What is/are the insight(s) found from the chart?"
      ]
    },
    {
      "cell_type": "markdown",
      "metadata": {
        "id": "x-lUsV2mp1ck"
      },
      "source": [
        "* epic content type(movies) are more popular with higher imbd and tmdb score than other category.\n",
        "\n",
        "* long,  range are the performing well but less then epic type movies.\n",
        "\n",
        "* popularaty of movies is very less in short, medium type."
      ]
    },
    {
      "cell_type": "markdown",
      "metadata": {
        "id": "M7G43BXep1ck"
      },
      "source": [
        "##### 3. Will the gained insights help creating a positive business impact?\n",
        "Are there any insights that lead to negative growth? Justify with specific reason."
      ]
    },
    {
      "cell_type": "markdown",
      "metadata": {
        "id": "5wwDJXsLp1cl"
      },
      "source": [
        "yes, audience dont like short type range content as it is showing the least popularity along with low imdb and tmdb score."
      ]
    },
    {
      "cell_type": "markdown",
      "metadata": {
        "id": "BZR9WyysphqO"
      },
      "source": [
        "#### Chart - 10 line plot trend over the decades"
      ]
    },
    {
      "cell_type": "code",
      "execution_count": null,
      "metadata": {
        "id": "TdPTWpAVphqO"
      },
      "outputs": [],
      "source": [
        "# Chart - 10 visualization code\n",
        "\n",
        "unique_genres = trend_df['genres'].unique()\n",
        "n = len(unique_genres)\n",
        "\n",
        "cols = 3\n",
        "rows = (n + cols - 1) // cols  # Ceiling division\n",
        "\n",
        "# Define figure and axes\n",
        "fig, axes = plt.subplots(rows, cols, figsize=(18, 5 * rows), sharex=False, sharey=False)\n",
        "axes = axes.flatten()\n",
        "\n",
        "# Define a nice color palette\n",
        "palette = sns.color_palette(\"Set2\", n_colors=n)\n",
        "\n",
        "# Set global style\n",
        "sns.set_theme(style=\"whitegrid\")\n",
        "\n",
        "for i, genre in enumerate(unique_genres):\n",
        "    genre_data = trend_df[trend_df['genres'] == genre]\n",
        "    sns.lineplot(\n",
        "        data=genre_data,\n",
        "        x='decade',\n",
        "        y='tmdb_popularity',\n",
        "        ax=axes[i],\n",
        "        color=palette[i % len(palette)],\n",
        "        marker='o',\n",
        "        linewidth=2\n",
        "    )\n",
        "    axes[i].set_title(f'Genre: {genre}', fontsize=14, weight='bold')\n",
        "    axes[i].set_xlabel('Decade', fontsize=12)\n",
        "    axes[i].set_ylabel('Avg Popularity', fontsize=12)\n",
        "    axes[i].tick_params(axis='x', rotation=45)\n",
        "    axes[i].grid(True)\n",
        "\n",
        "# Hide unused subplots\n",
        "for j in range(i+1, len(axes)):\n",
        "    fig.delaxes(axes[j])\n",
        "\n",
        "plt.suptitle(' TMDb Popularity Trend per Genre (by Decade)', fontsize=18, weight='bold', y=1.02)\n",
        "plt.tight_layout()\n",
        "plt.subplots_adjust(top=1)  # Adjust for suptitle space\n",
        "plt.show()\n"
      ]
    },
    {
      "cell_type": "markdown",
      "metadata": {
        "id": "jj7wYXLtphqO"
      },
      "source": [
        "##### 1. Why did you pick the specific chart?"
      ]
    },
    {
      "cell_type": "markdown",
      "metadata": {
        "id": "Ob8u6rCTphqO"
      },
      "source": [
        "line chart are best to comparethe trends spicially when trend has to  be analysed across the time."
      ]
    },
    {
      "cell_type": "markdown",
      "metadata": {
        "id": "eZrbJ2SmphqO"
      },
      "source": [
        "##### 2. What is/are the insight(s) found from the chart?"
      ]
    },
    {
      "cell_type": "markdown",
      "metadata": {
        "id": "mZtgC_hjphqO"
      },
      "source": [
        "* action, comedy, drama, triller , crime in genral has growing popularity.\n",
        "\n",
        "* anime has decresing trend.\n",
        "\n",
        "* horror movies shows a dip in popularity in last two deacade.\n",
        "\n",
        "* scifi has high popularity in last two decade."
      ]
    },
    {
      "cell_type": "markdown",
      "metadata": {
        "id": "rFu4xreNphqO"
      },
      "source": [
        "##### 3. Will the gained insights help creating a positive business impact?\n",
        "Are there any insights that lead to negative growth? Justify with specific reason."
      ]
    },
    {
      "cell_type": "markdown",
      "metadata": {
        "id": "ey_0qi68phqO"
      },
      "source": [
        "Answer Here\n",
        "\n",
        "yes,\n",
        "* there is a negative trend in the popularity of some genre like animation which clearly show the shift in intrest of audiuence for time as it is one of the highest popular genre.\n",
        "\n",
        "* also there is uncerternity among some genre which shows the genre are not liked but content produced during that decade may be good like sport\n",
        "\n"
      ]
    },
    {
      "cell_type": "markdown",
      "metadata": {
        "id": "U2RJ9gkRphqQ"
      },
      "source": [
        "#### Chart - 11 line plot decade vs popularity"
      ]
    },
    {
      "cell_type": "code",
      "execution_count": null,
      "metadata": {
        "id": "GM7a4YP4phqQ"
      },
      "outputs": [],
      "source": [
        "# Chart - 11 visualization code\n",
        "\n",
        "# trend across decades of shows vs movies and popupularity\n",
        "trend_shows_movies_popularity\n",
        "fig , axs =  plt.subplots(1,2 , figsize = (10, 4))\n",
        "palette = sns.color_palette(\"Set2\", n_colors=2)\n",
        "sns.lineplot(data  =  trend_shows_movies_popularity[trend_shows_movies_popularity['type'] =='MOVIE'] , x = 'decade' , y= 'tmdb_popularity' , ax=  axs[0] , color = palette[1])\n",
        "axs[0].set_title('Movie trend Over the decade')\n",
        "\n",
        "sns.lineplot(data  =  trend_shows_movies_popularity[trend_shows_movies_popularity['type'] =='SHOW'] , x = 'decade' , y= 'tmdb_popularity' , ax=  axs[1] , color = palette[0])\n",
        "axs[1].set_title('Shows trend Over the decade')\n",
        "plt.show()"
      ]
    },
    {
      "cell_type": "markdown",
      "metadata": {
        "id": "1M8mcRywphqQ"
      },
      "source": [
        "##### 1. Why did you pick the specific chart?"
      ]
    },
    {
      "cell_type": "markdown",
      "metadata": {
        "id": "8agQvks0phqQ"
      },
      "source": [
        "line chart is best suited for time line analysis and more ever here i have seprated the movie and shows which clearly represent the trend."
      ]
    },
    {
      "cell_type": "markdown",
      "metadata": {
        "id": "tgIPom80phqQ"
      },
      "source": [
        "##### 2. What is/are the insight(s) found from the chart?"
      ]
    },
    {
      "cell_type": "markdown",
      "metadata": {
        "id": "Qp13pnNzphqQ"
      },
      "source": [
        "* for movies there is linear growth in popularity from 1930s till 2000s but then there is dip 2000 to 2020s.\n",
        "\n",
        "* shows are constantly more popular than movies over the decades. but there are fluctuations in the popularity."
      ]
    },
    {
      "cell_type": "markdown",
      "metadata": {
        "id": "JMzcOPDDphqR"
      },
      "source": [
        "##### 3. Will the gained insights help creating a positive business impact?\n",
        "Are there any insights that lead to negative growth? Justify with specific reason."
      ]
    },
    {
      "cell_type": "markdown",
      "metadata": {
        "id": "R4Ka1PC2phqR"
      },
      "source": [
        "yes, from 2000s to 2020 there is dip in popularity of movies, so if there is a dip in the popularity of the content being created then audiences are losing intrest from the content displayed in platform."
      ]
    },
    {
      "cell_type": "markdown",
      "metadata": {
        "id": "EM7whBJCYoAo"
      },
      "source": [
        "#### Chart - 12 pair plot"
      ]
    },
    {
      "cell_type": "code",
      "execution_count": null,
      "metadata": {
        "id": "t6GMdE67YoAp"
      },
      "outputs": [],
      "source": [
        "# Chart - 12 visualization code\n",
        "movies = titles_cleaned_data_no_outlier[titles_cleaned_data_no_outlier['type'] == 'MOVIE'].drop_duplicates(subset='id')\n",
        "shows = titles_cleaned_data_no_outlier[titles_cleaned_data_no_outlier['type'] == 'SHOW'].drop_duplicates(subset='id')\n",
        "sns.pairplot(movies[['runtime', 'imdb_score', 'tmdb_score', 'tmdb_popularity']])\n",
        "plt.suptitle(\"Movies: Runtime vs Ratings/Popularity\", y=1.02)\n",
        "plt.show()\n",
        "\n",
        "shows[['seasons', 'imdb_score', 'tmdb_score', 'tmdb_popularity']].corr()\n",
        "sns.pairplot(shows[['seasons', 'imdb_score', 'tmdb_score', 'tmdb_popularity']])\n",
        "plt.suptitle(\"Shows: Seasons vs Ratings/Popularity\", y=1.02)\n",
        "plt.show()\n",
        "\n",
        "\n",
        "\n",
        "\n"
      ]
    },
    {
      "cell_type": "markdown",
      "metadata": {
        "id": "fge-S5ZAYoAp"
      },
      "source": [
        "##### 1. Why did you pick the specific chart?"
      ]
    },
    {
      "cell_type": "markdown",
      "metadata": {
        "id": "5dBItgRVYoAp"
      },
      "source": [
        "It tells the the realtionship between the multiple variable and show the clients very effectivily."
      ]
    },
    {
      "cell_type": "markdown",
      "metadata": {
        "id": "85gYPyotYoAp"
      },
      "source": [
        "##### 2. What is/are the insight(s) found from the chart?"
      ]
    },
    {
      "cell_type": "markdown",
      "metadata": {
        "id": "4jstXR6OYoAp"
      },
      "source": [
        "imdb_score in genral reduced after the runtime of 175 before it it was showing many movies with the high score.\n",
        "\n",
        "there are many high popularity movies whifh are in between 75 - 175 runntime.\n",
        "\n",
        "below 75 runtime again the the popularity is reducing.\n",
        "\n",
        "all the movies with above 8 tmdb_sore is in between 75 185.\n",
        "\n",
        "seasons with 1 - 7 there are many ssows which have high imdb_score.\n",
        "\n",
        "shows with more than 20 seasons has significcatnt drop in popularty , imdb score and tmdb score."
      ]
    },
    {
      "cell_type": "markdown",
      "metadata": {
        "id": "RoGjAbkUYoAp"
      },
      "source": [
        "##### 3. Will the gained insights help creating a positive business impact?\n",
        "Are there any insights that lead to negative growth? Justify with specific reason."
      ]
    },
    {
      "cell_type": "markdown",
      "metadata": {
        "id": "zfJ8IqMcYoAp"
      },
      "source": [
        "yes , if runtime goes above 175 popularity , imdb_score and and tmdb-score redice significantly.\n",
        "\n",
        "and if seasons is more than 20 there is a drop in popularity , imdb_score , tmdb_score."
      ]
    },
    {
      "cell_type": "markdown",
      "metadata": {
        "id": "4Of9eVA-YrdM"
      },
      "source": [
        "#### Chart - 13 correlation imdb_score, imdb_votes, tmdb_popularity, tmdb_score"
      ]
    },
    {
      "cell_type": "code",
      "execution_count": null,
      "metadata": {
        "id": "irlUoxc8YrdO"
      },
      "outputs": [],
      "source": [
        "# Chart - 13 visualization code\n",
        "titles_data_for_relation  =  titles_data.drop_duplicates(subset='id').dropna(subset= ['imdb_score' , 'imdb_votes' , 'tmdb_popularity','tmdb_score'])\n",
        "titles_data_for_relation[['imdb_score' , 'imdb_votes' , 'tmdb_popularity','tmdb_score' ]].corr()\n",
        "sns.heatmap(titles_data_for_relation[['imdb_score' , 'imdb_votes' , 'tmdb_popularity','tmdb_score' ]].corr() , annot = True , fmt = '.2f' )\n",
        "\n",
        "plt.title('Correlation Between IMDb & TMDb Scores/Votes/Popularity')\n",
        "plt.xticks(rotation =  90)\n",
        "plt.show()"
      ]
    },
    {
      "cell_type": "markdown",
      "metadata": {
        "id": "iky9q4vBYrdO"
      },
      "source": [
        "##### 1. Why did you pick the specific chart?"
      ]
    },
    {
      "cell_type": "markdown",
      "metadata": {
        "id": "aJRCwT6DYrdO"
      },
      "source": [
        "to show how the imdb_score , tmdb_popularity , tmdb_score , imdb_votes , to understant how each of these variable are realted to each other."
      ]
    },
    {
      "cell_type": "markdown",
      "metadata": {
        "id": "F6T5p64dYrdO"
      },
      "source": [
        "##### 2. What is/are the insight(s) found from the chart?"
      ]
    },
    {
      "cell_type": "markdown",
      "metadata": {
        "id": "Xx8WAJvtYrdO"
      },
      "source": [
        "there is no significant relationship among the variables but imdb_score and tmdb-score has medium strength relationships.\n"
      ]
    },
    {
      "cell_type": "markdown",
      "metadata": {
        "id": "y-Ehk30pYrdP"
      },
      "source": [
        "##### 3. Will the gained insights help creating a positive business impact?\n",
        "Are there any insights that lead to negative growth? Justify with specific reason."
      ]
    },
    {
      "cell_type": "markdown",
      "metadata": {
        "id": "jLNxxz7MYrdP"
      },
      "source": [
        "For individual platform tmdb and imdb we need to perform independent analysis for each as there is no high correlation between them."
      ]
    },
    {
      "cell_type": "markdown",
      "metadata": {
        "id": "JcMwzZxoAimU"
      },
      "source": [
        "## **5. Solution to Business Objective**"
      ]
    },
    {
      "cell_type": "markdown",
      "metadata": {
        "id": "8G2x9gOozGDZ"
      },
      "source": [
        "#### What do you suggest the client to achieve Business Objective ?\n",
        "Explain Briefly."
      ]
    },
    {
      "cell_type": "markdown",
      "metadata": {
        "id": "pASKb0qOza21"
      },
      "source": [
        "\n",
        "\n",
        "*   increase the content in documentation  and reality genra people like it but the number of content uploaded are less documentation(< 1500) and reality(< 100).\n",
        "\n",
        "*   there is drop in content upload from last deaced hence need to increse the content upload.\n",
        "\n",
        "*   there are many contries which doesnt have consistent content upload promt them to upload the content.\n",
        "\n",
        "*   increase the number of shows upload as shows genrally tends to show more popularity which  will increse the ingagement in the platform.\n",
        "\n",
        "*   promte the marketing of the movies with high imdb score more than 80 percentile and low popularity less than 25 percentile.\n",
        "\n",
        "*   prome the hype of most popular movies with less imdb score so that trending videos are reached and watched maximum audinces.\n",
        "\n",
        "*   there are few contry with high popularity but imdb score is less which is result of regional movies like KOREAN .\n",
        "\n",
        "*   region based shows and movies should be promoted as movie may not have high popularity due to  less global promotion or less production but  liked by locals.\n",
        "*   history , documentation , war , anime are have very high imdb score and should be permoted globaly.\n",
        "\n",
        "*   Give loyalty award for consitence content producer and provide award to for inconsitent producer for producing new content to promote content creation.\n",
        "\n",
        "* the content length should be kept  90-200 minutes to get more popularity."
      ]
    },
    {
      "cell_type": "markdown",
      "metadata": {
        "id": "gCX9965dhzqZ"
      },
      "source": [
        "# **Conclusion**"
      ]
    },
    {
      "cell_type": "markdown",
      "metadata": {
        "id": "Fjb1IsQkh3yE"
      },
      "source": [
        "* The duration category field is closely related to  audience rating and popularity scores\n",
        "* The IMDB and TMDB score fileds are positively correlated, while popularity is influenced by additional  factor such as trends and marketing.\n",
        "* Long and epic duration content like upto 90-180 minutes have recieved higher ratings and better popularity compared to shoter or medium length content.\n",
        "*  Number of content uploaded has incresed significantly  of last few decade but there is dip in las two decade.\n",
        "* Short duration content genrally under performs in both ratings and popularity.\n",
        "* INDIA and USA are the most consitent content uploders.\n",
        "* USA and INDIA are top most contry to produce content which  has imdb rating greater then 90% of other movies.\n",
        "* Local or regional content have shown higher popularty among that perticular region.\n"
      ]
    },
    {
      "cell_type": "markdown",
      "metadata": {
        "id": "gIfDvo9L0UH2"
      },
      "source": [
        "### ***Hurrah! You have successfully completed your EDA Capstone Project !!!***"
      ]
    }
  ],
  "metadata": {
    "colab": {
      "collapsed_sections": [
        "vncDsAP0Gaoa",
        "yQaldy8SH6Dl",
        "mDgbUHAGgjLW",
        "HhfV-JJviCcP",
        "3RnN4peoiCZX",
        "x71ZqKXriCWQ",
        "7hBIi_osiCS2",
        "35m5QtbWiB9F",
        "nA9Y7ga8ng1Z",
        "MSa1f5Uengrz",
        "0wOQAZs5pc--",
        "KSlN3yHqYklG",
        "OH-pJp9IphqM",
        "bbFf2-_FphqN",
        "_ouA3fa0phqN",
        "PIIx-8_IphqN",
        "t27r6nlMphqO",
        "r2jJGEOYphqO",
        "Ag9LCva-p1cl",
        "E6MkPsBcp1cl",
        "2cELzS2fp1cl",
        "bamQiAODYuh1",
        "GwzvFGzlYuh3",
        "YJ55k-q6phqO",
        "gCFgpxoyphqP",
        "OVtJsKN_phqQ",
        "x-EpHcCOp1ci",
        "n3dbpmDWp1ck",
        "BZR9WyysphqO",
        "jj7wYXLtphqO",
        "eZrbJ2SmphqO",
        "U2RJ9gkRphqQ",
        "1M8mcRywphqQ",
        "tgIPom80phqQ",
        "EM7whBJCYoAo",
        "4Of9eVA-YrdM",
        "iky9q4vBYrdO",
        "F6T5p64dYrdO",
        "8G2x9gOozGDZ",
        "gCX9965dhzqZ",
        "gIfDvo9L0UH2"
      ],
      "private_outputs": true,
      "provenance": []
    },
    "kernelspec": {
      "display_name": "Python 3",
      "name": "python3"
    },
    "language_info": {
      "codemirror_mode": {
        "name": "ipython",
        "version": 3
      },
      "file_extension": ".py",
      "mimetype": "text/x-python",
      "name": "python",
      "nbconvert_exporter": "python",
      "pygments_lexer": "ipython3",
      "version": "3.12.5"
    }
  },
  "nbformat": 4,
  "nbformat_minor": 0
}
